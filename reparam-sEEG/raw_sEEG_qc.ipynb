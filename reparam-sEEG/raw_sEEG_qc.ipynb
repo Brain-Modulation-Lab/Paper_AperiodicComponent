{
 "cells": [
  {
   "cell_type": "code",
   "execution_count": 1,
   "metadata": {},
   "outputs": [],
   "source": [
    "import os\n",
    "import glob\n",
    "import numpy as np\n",
    "import pandas as pd\n",
    "import copy\n",
    "import mne"
   ]
  },
  {
   "cell_type": "code",
   "execution_count": 5,
   "metadata": {},
   "outputs": [],
   "source": [
    "df_localization = pd.read_csv('/Volumes/Nexus/Users/zouj/sEEG_data/electrode-localizations.tsv', delimiter='\\t')"
   ]
  },
  {
   "cell_type": "code",
   "execution_count": 3,
   "metadata": {},
   "outputs": [
    {
     "data": {
      "text/html": [
       "<div>\n",
       "<style scoped>\n",
       "    .dataframe tbody tr th:only-of-type {\n",
       "        vertical-align: middle;\n",
       "    }\n",
       "\n",
       "    .dataframe tbody tr th {\n",
       "        vertical-align: top;\n",
       "    }\n",
       "\n",
       "    .dataframe thead th {\n",
       "        text-align: right;\n",
       "    }\n",
       "</style>\n",
       "<table border=\"1\" class=\"dataframe\">\n",
       "  <thead>\n",
       "    <tr style=\"text-align: right;\">\n",
       "      <th></th>\n",
       "      <th>label</th>\n",
       "      <th>mni_linear_x</th>\n",
       "      <th>mni_linear_y</th>\n",
       "      <th>mni_linear_z</th>\n",
       "      <th>HCPMMP1_label_1</th>\n",
       "      <th>HCPMMP1_weight_1</th>\n",
       "      <th>HCPMMP1_label_2</th>\n",
       "      <th>HCPMMP1_weight_2</th>\n",
       "      <th>MOREL_label_1</th>\n",
       "      <th>MOREL_weight_1</th>\n",
       "      <th>...</th>\n",
       "      <th>DISTAL_label_1</th>\n",
       "      <th>DISTAL_weight_1</th>\n",
       "      <th>DISTAL_label_2</th>\n",
       "      <th>DISTAL_weight_2</th>\n",
       "      <th>interictal_activity</th>\n",
       "      <th>ictal_activity</th>\n",
       "      <th>electrode</th>\n",
       "      <th>is_thalamic</th>\n",
       "      <th>is_cortical</th>\n",
       "      <th>loc_code</th>\n",
       "    </tr>\n",
       "    <tr>\n",
       "      <th>Subject</th>\n",
       "      <th></th>\n",
       "      <th></th>\n",
       "      <th></th>\n",
       "      <th></th>\n",
       "      <th></th>\n",
       "      <th></th>\n",
       "      <th></th>\n",
       "      <th></th>\n",
       "      <th></th>\n",
       "      <th></th>\n",
       "      <th></th>\n",
       "      <th></th>\n",
       "      <th></th>\n",
       "      <th></th>\n",
       "      <th></th>\n",
       "      <th></th>\n",
       "      <th></th>\n",
       "      <th></th>\n",
       "      <th></th>\n",
       "      <th></th>\n",
       "      <th></th>\n",
       "    </tr>\n",
       "  </thead>\n",
       "  <tbody>\n",
       "    <tr>\n",
       "      <th>EM1002</th>\n",
       "      <td>32</td>\n",
       "      <td>32</td>\n",
       "      <td>32</td>\n",
       "      <td>32</td>\n",
       "      <td>13</td>\n",
       "      <td>32</td>\n",
       "      <td>12</td>\n",
       "      <td>32</td>\n",
       "      <td>14</td>\n",
       "      <td>32</td>\n",
       "      <td>...</td>\n",
       "      <td>25</td>\n",
       "      <td>32</td>\n",
       "      <td>21</td>\n",
       "      <td>32</td>\n",
       "      <td>32</td>\n",
       "      <td>32</td>\n",
       "      <td>32</td>\n",
       "      <td>32</td>\n",
       "      <td>32</td>\n",
       "      <td>32</td>\n",
       "    </tr>\n",
       "    <tr>\n",
       "      <th>EM1021</th>\n",
       "      <td>32</td>\n",
       "      <td>32</td>\n",
       "      <td>32</td>\n",
       "      <td>32</td>\n",
       "      <td>12</td>\n",
       "      <td>32</td>\n",
       "      <td>11</td>\n",
       "      <td>32</td>\n",
       "      <td>15</td>\n",
       "      <td>32</td>\n",
       "      <td>...</td>\n",
       "      <td>16</td>\n",
       "      <td>32</td>\n",
       "      <td>16</td>\n",
       "      <td>32</td>\n",
       "      <td>32</td>\n",
       "      <td>32</td>\n",
       "      <td>32</td>\n",
       "      <td>32</td>\n",
       "      <td>32</td>\n",
       "      <td>32</td>\n",
       "    </tr>\n",
       "    <tr>\n",
       "      <th>EM1023</th>\n",
       "      <td>46</td>\n",
       "      <td>46</td>\n",
       "      <td>46</td>\n",
       "      <td>46</td>\n",
       "      <td>29</td>\n",
       "      <td>46</td>\n",
       "      <td>28</td>\n",
       "      <td>46</td>\n",
       "      <td>15</td>\n",
       "      <td>46</td>\n",
       "      <td>...</td>\n",
       "      <td>20</td>\n",
       "      <td>46</td>\n",
       "      <td>19</td>\n",
       "      <td>46</td>\n",
       "      <td>0</td>\n",
       "      <td>0</td>\n",
       "      <td>46</td>\n",
       "      <td>46</td>\n",
       "      <td>46</td>\n",
       "      <td>46</td>\n",
       "    </tr>\n",
       "    <tr>\n",
       "      <th>EM1029</th>\n",
       "      <td>44</td>\n",
       "      <td>44</td>\n",
       "      <td>44</td>\n",
       "      <td>44</td>\n",
       "      <td>28</td>\n",
       "      <td>44</td>\n",
       "      <td>28</td>\n",
       "      <td>44</td>\n",
       "      <td>13</td>\n",
       "      <td>44</td>\n",
       "      <td>...</td>\n",
       "      <td>18</td>\n",
       "      <td>44</td>\n",
       "      <td>18</td>\n",
       "      <td>44</td>\n",
       "      <td>44</td>\n",
       "      <td>44</td>\n",
       "      <td>44</td>\n",
       "      <td>44</td>\n",
       "      <td>44</td>\n",
       "      <td>44</td>\n",
       "    </tr>\n",
       "    <tr>\n",
       "      <th>EM1035</th>\n",
       "      <td>32</td>\n",
       "      <td>32</td>\n",
       "      <td>32</td>\n",
       "      <td>32</td>\n",
       "      <td>15</td>\n",
       "      <td>32</td>\n",
       "      <td>13</td>\n",
       "      <td>32</td>\n",
       "      <td>13</td>\n",
       "      <td>32</td>\n",
       "      <td>...</td>\n",
       "      <td>24</td>\n",
       "      <td>32</td>\n",
       "      <td>19</td>\n",
       "      <td>32</td>\n",
       "      <td>32</td>\n",
       "      <td>32</td>\n",
       "      <td>32</td>\n",
       "      <td>32</td>\n",
       "      <td>32</td>\n",
       "      <td>32</td>\n",
       "    </tr>\n",
       "    <tr>\n",
       "      <th>EM1061</th>\n",
       "      <td>42</td>\n",
       "      <td>42</td>\n",
       "      <td>42</td>\n",
       "      <td>42</td>\n",
       "      <td>28</td>\n",
       "      <td>42</td>\n",
       "      <td>25</td>\n",
       "      <td>42</td>\n",
       "      <td>11</td>\n",
       "      <td>42</td>\n",
       "      <td>...</td>\n",
       "      <td>26</td>\n",
       "      <td>42</td>\n",
       "      <td>19</td>\n",
       "      <td>42</td>\n",
       "      <td>0</td>\n",
       "      <td>0</td>\n",
       "      <td>42</td>\n",
       "      <td>42</td>\n",
       "      <td>42</td>\n",
       "      <td>42</td>\n",
       "    </tr>\n",
       "    <tr>\n",
       "      <th>EM1063</th>\n",
       "      <td>32</td>\n",
       "      <td>32</td>\n",
       "      <td>32</td>\n",
       "      <td>32</td>\n",
       "      <td>19</td>\n",
       "      <td>32</td>\n",
       "      <td>19</td>\n",
       "      <td>32</td>\n",
       "      <td>8</td>\n",
       "      <td>32</td>\n",
       "      <td>...</td>\n",
       "      <td>18</td>\n",
       "      <td>32</td>\n",
       "      <td>10</td>\n",
       "      <td>32</td>\n",
       "      <td>0</td>\n",
       "      <td>0</td>\n",
       "      <td>32</td>\n",
       "      <td>32</td>\n",
       "      <td>32</td>\n",
       "      <td>32</td>\n",
       "    </tr>\n",
       "    <tr>\n",
       "      <th>EM1066</th>\n",
       "      <td>34</td>\n",
       "      <td>34</td>\n",
       "      <td>34</td>\n",
       "      <td>34</td>\n",
       "      <td>18</td>\n",
       "      <td>34</td>\n",
       "      <td>17</td>\n",
       "      <td>34</td>\n",
       "      <td>16</td>\n",
       "      <td>34</td>\n",
       "      <td>...</td>\n",
       "      <td>20</td>\n",
       "      <td>34</td>\n",
       "      <td>18</td>\n",
       "      <td>34</td>\n",
       "      <td>0</td>\n",
       "      <td>0</td>\n",
       "      <td>34</td>\n",
       "      <td>34</td>\n",
       "      <td>34</td>\n",
       "      <td>34</td>\n",
       "    </tr>\n",
       "  </tbody>\n",
       "</table>\n",
       "<p>8 rows × 26 columns</p>\n",
       "</div>"
      ],
      "text/plain": [
       "         label  mni_linear_x  mni_linear_y  mni_linear_z  HCPMMP1_label_1  \\\n",
       "Subject                                                                     \n",
       "EM1002      32            32            32            32               13   \n",
       "EM1021      32            32            32            32               12   \n",
       "EM1023      46            46            46            46               29   \n",
       "EM1029      44            44            44            44               28   \n",
       "EM1035      32            32            32            32               15   \n",
       "EM1061      42            42            42            42               28   \n",
       "EM1063      32            32            32            32               19   \n",
       "EM1066      34            34            34            34               18   \n",
       "\n",
       "         HCPMMP1_weight_1  HCPMMP1_label_2  HCPMMP1_weight_2  MOREL_label_1  \\\n",
       "Subject                                                                       \n",
       "EM1002                 32               12                32             14   \n",
       "EM1021                 32               11                32             15   \n",
       "EM1023                 46               28                46             15   \n",
       "EM1029                 44               28                44             13   \n",
       "EM1035                 32               13                32             13   \n",
       "EM1061                 42               25                42             11   \n",
       "EM1063                 32               19                32              8   \n",
       "EM1066                 34               17                34             16   \n",
       "\n",
       "         MOREL_weight_1  ...  DISTAL_label_1  DISTAL_weight_1  DISTAL_label_2  \\\n",
       "Subject                  ...                                                    \n",
       "EM1002               32  ...              25               32              21   \n",
       "EM1021               32  ...              16               32              16   \n",
       "EM1023               46  ...              20               46              19   \n",
       "EM1029               44  ...              18               44              18   \n",
       "EM1035               32  ...              24               32              19   \n",
       "EM1061               42  ...              26               42              19   \n",
       "EM1063               32  ...              18               32              10   \n",
       "EM1066               34  ...              20               34              18   \n",
       "\n",
       "         DISTAL_weight_2  interictal_activity  ictal_activity  electrode  \\\n",
       "Subject                                                                    \n",
       "EM1002                32                   32              32         32   \n",
       "EM1021                32                   32              32         32   \n",
       "EM1023                46                    0               0         46   \n",
       "EM1029                44                   44              44         44   \n",
       "EM1035                32                   32              32         32   \n",
       "EM1061                42                    0               0         42   \n",
       "EM1063                32                    0               0         32   \n",
       "EM1066                34                    0               0         34   \n",
       "\n",
       "         is_thalamic  is_cortical  loc_code  \n",
       "Subject                                      \n",
       "EM1002            32           32        32  \n",
       "EM1021            32           32        32  \n",
       "EM1023            46           46        46  \n",
       "EM1029            44           44        44  \n",
       "EM1035            32           32        32  \n",
       "EM1061            42           42        42  \n",
       "EM1063            32           32        32  \n",
       "EM1066            34           34        34  \n",
       "\n",
       "[8 rows x 26 columns]"
      ]
     },
     "execution_count": 3,
     "metadata": {},
     "output_type": "execute_result"
    }
   ],
   "source": [
    "df_localization.groupby('Subject').count()"
   ]
  },
  {
   "cell_type": "markdown",
   "metadata": {},
   "source": [
    "# sub-EM1002\n",
    "stim in the middle of recording? --> cropping into two "
   ]
  },
  {
   "cell_type": "code",
   "execution_count": 6,
   "metadata": {},
   "outputs": [
    {
     "data": {
      "text/plain": [
       "['/Volumes/Nexus/sEEG/sub-EM1002/EM1002_ses-EMU_task-resting_run-1.edf']"
      ]
     },
     "execution_count": 6,
     "metadata": {},
     "output_type": "execute_result"
    }
   ],
   "source": [
    "glob.glob('/Volumes/Nexus/sEEG/*1002*/*.edf')"
   ]
  },
  {
   "cell_type": "code",
   "execution_count": 61,
   "metadata": {},
   "outputs": [
    {
     "name": "stdout",
     "output_type": "stream",
     "text": [
      "Extracting EDF parameters from /Volumes/Nexus/sEEG/sub-EM1002/EM1002_ses-EMU_task-resting_run-1.edf...\n",
      "EDF file detected\n",
      "Setting channel info structure...\n",
      "Creating raw.info structure...\n"
     ]
    }
   ],
   "source": [
    "subj1002_raw = mne.io.read_raw_edf('/Volumes/Nexus/sEEG/sub-EM1002/EM1002_ses-EMU_task-resting_run-1.edf')"
   ]
  },
  {
   "cell_type": "code",
   "execution_count": 5,
   "metadata": {},
   "outputs": [
    {
     "data": {
      "text/html": [
       "<table class=\"table table-hover table-striped table-sm table-responsive small\">\n",
       "    <tr>\n",
       "        <th>Measurement date</th>\n",
       "        \n",
       "        <td>October 26, 2001  08:27:26 GMT</td>\n",
       "        \n",
       "    </tr>\n",
       "    <tr>\n",
       "        <th>Experimenter</th>\n",
       "        \n",
       "        <td>Unknown</td>\n",
       "        \n",
       "    </tr>\n",
       "        <th>Participant</th>\n",
       "        \n",
       "        <td>Unknown</td>\n",
       "        \n",
       "    </tr>\n",
       "    <tr>\n",
       "        <th>Digitized points</th>\n",
       "        \n",
       "        <td>Not available</td>\n",
       "        \n",
       "    </tr>\n",
       "    <tr>\n",
       "        <th>Good channels</th>\n",
       "        <td>32 EEG</td>\n",
       "    </tr>\n",
       "    <tr>\n",
       "        <th>Bad channels</th>\n",
       "        <td>None</td>\n",
       "    </tr>\n",
       "    <tr>\n",
       "        <th>EOG channels</th>\n",
       "        <td>Not available</td>\n",
       "    </tr>\n",
       "    <tr>\n",
       "        <th>ECG channels</th>\n",
       "        <td>Not available</td>\n",
       "    \n",
       "    <tr>\n",
       "        <th>Sampling frequency</th>\n",
       "        <td>1024.00 Hz</td>\n",
       "    </tr>\n",
       "    \n",
       "    \n",
       "    <tr>\n",
       "        <th>Highpass</th>\n",
       "        <td>0.00 Hz</td>\n",
       "    </tr>\n",
       "    \n",
       "    \n",
       "    <tr>\n",
       "        <th>Lowpass</th>\n",
       "        <td>512.00 Hz</td>\n",
       "    </tr>\n",
       "    \n",
       "    \n",
       "    \n",
       "    <tr>\n",
       "        <th>Filenames</th>\n",
       "        <td>EM1002_ses-EMU_task-resting_run-1.edf</td>\n",
       "    </tr>\n",
       "    \n",
       "    <tr>\n",
       "        <th>Duration</th>\n",
       "        <td>00:09:60 (HH:MM:SS)</td>\n",
       "    </tr>\n",
       "</table>"
      ],
      "text/plain": [
       "<RawEDF | EM1002_ses-EMU_task-resting_run-1.edf, 32 x 614400 (600.0 s), ~29 kB, data not loaded>"
      ]
     },
     "execution_count": 5,
     "metadata": {},
     "output_type": "execute_result"
    }
   ],
   "source": [
    "subj1002_raw "
   ]
  },
  {
   "cell_type": "code",
   "execution_count": 111,
   "metadata": {},
   "outputs": [
    {
     "name": "stdout",
     "output_type": "stream",
     "text": [
      "Using pyopengl with version 3.1.7\n"
     ]
    },
    {
     "data": {
      "text/plain": [
       "<mne_qt_browser._pg_figure.MNEQtBrowser(0x2a6a85bc0) at 0x2b22b34c0>"
      ]
     },
     "execution_count": 111,
     "metadata": {},
     "output_type": "execute_result"
    },
    {
     "name": "stderr",
     "output_type": "stream",
     "text": [
      "qt.pointer.dispatch: skipping QEventPoint(id=1 ts=0 pos=0,0 scn=478.25,659.093 gbl=478.25,659.093 Released ellipse=(1x1 ∡ 0) vel=0,0 press=-478.25,-659.093 last=-478.25,-659.093 Δ 478.25,659.093) : no target window\n",
      "qt.pointer.dispatch: skipping QEventPoint(id=2 ts=0 pos=0,0 scn=629.378,503.644 gbl=629.378,503.644 Released ellipse=(1x1 ∡ 0) vel=0,0 press=-629.378,-503.644 last=-629.378,-503.644 Δ 629.378,503.644) : no target window\n",
      "qt.pointer.dispatch: skipping QEventPoint(id=3 ts=0 pos=0,0 scn=871.481,606.244 gbl=871.481,606.244 Released ellipse=(1x1 ∡ 0) vel=0,0 press=-871.481,-606.244 last=-871.481,-606.244 Δ 871.481,606.244) : no target window\n",
      "qt.pointer.dispatch: skipping QEventPoint(id=11 ts=0 pos=0,0 scn=-45.005,691.086 gbl=-45.005,691.086 Released ellipse=(1x1 ∡ 0) vel=0,0 press=45.005,-691.086 last=45.005,-691.086 Δ -45.005,691.086) : no target window\n",
      "qt.pointer.dispatch: skipping QEventPoint(id=12 ts=0 pos=0,0 scn=175.677,745.806 gbl=175.677,745.806 Released ellipse=(1x1 ∡ 0) vel=0,0 press=-175.677,-745.806 last=-175.677,-745.806 Δ 175.677,745.806) : no target window\n"
     ]
    },
    {
     "name": "stdout",
     "output_type": "stream",
     "text": [
      "Channels marked as bad:\n",
      "none\n",
      "Channels marked as bad:\n",
      "['RCM16']\n"
     ]
    }
   ],
   "source": [
    "subj1002_raw.plot()"
   ]
  },
  {
   "cell_type": "code",
   "execution_count": 44,
   "metadata": {},
   "outputs": [
    {
     "name": "stdout",
     "output_type": "stream",
     "text": [
      "Overwriting existing file.\n"
     ]
    },
    {
     "name": "stderr",
     "output_type": "stream",
     "text": [
      "/var/folders/3b/c572vxrx1rddt5284f3d5zh80000gn/T/ipykernel_5307/1328088409.py:1: RuntimeWarning: EDF format requires equal-length data blocks, so 0.9990234375 seconds of zeros were appended to all channels when writing the final block.\n",
      "  subj1002_raw.copy().crop(tmax = 152).export(\n"
     ]
    },
    {
     "name": "stdout",
     "output_type": "stream",
     "text": [
      "Overwriting existing file.\n"
     ]
    }
   ],
   "source": [
    "subj1002_raw.copy().crop(tmax = 152).export(\n",
    "    '/Volumes/Nexus/sEEG/sub-EM1002/EM1002_ses-EMU_task-resting_run-1_1.edf',\n",
    "    overwrite = True\n",
    ")\n",
    "\n",
    "subj1002_raw.copy().crop(tmin = 204).export(\n",
    "    '/Volumes/Nexus/sEEG/sub-EM1002/EM1002_ses-EMU_task-resting_run-1_2.edf',\n",
    "    overwrite = True\n",
    ")\n"
   ]
  },
  {
   "cell_type": "markdown",
   "metadata": {},
   "source": [
    "# sub-EM1021\n",
    "some sEEG channels are removed (check with vitek)"
   ]
  },
  {
   "cell_type": "code",
   "execution_count": 13,
   "metadata": {},
   "outputs": [
    {
     "data": {
      "text/plain": [
       "['/Volumes/Nexus/sEEG/sub-EM1021/sub-EM1021_session-EMU_task-resting_run-01.edf',\n",
       " '/Volumes/Nexus/sEEG/sub-EM1021/sub-EM1021_session-EMU_task-resting_run-02.edf',\n",
       " '/Volumes/Nexus/sEEG/sub-EM1021/sub-EM1021_session-EMU_task-resting_run-03.edf']"
      ]
     },
     "execution_count": 13,
     "metadata": {},
     "output_type": "execute_result"
    }
   ],
   "source": [
    "glob.glob('/Volumes/Nexus/sEEG/*1021*/*.edf')"
   ]
  },
  {
   "cell_type": "code",
   "execution_count": 14,
   "metadata": {},
   "outputs": [
    {
     "name": "stdout",
     "output_type": "stream",
     "text": [
      "Extracting EDF parameters from /Volumes/Nexus/sEEG/sub-EM1021/sub-EM1021_session-EMU_task-resting_run-01.edf...\n",
      "EDF file detected\n",
      "Setting channel info structure...\n",
      "Creating raw.info structure...\n",
      "Extracting EDF parameters from /Volumes/Nexus/sEEG/sub-EM1021/sub-EM1021_session-EMU_task-resting_run-02.edf...\n",
      "EDF file detected\n",
      "Setting channel info structure...\n",
      "Creating raw.info structure...\n",
      "Extracting EDF parameters from /Volumes/Nexus/sEEG/sub-EM1021/sub-EM1021_session-EMU_task-resting_run-03.edf...\n",
      "EDF file detected\n",
      "Setting channel info structure...\n",
      "Creating raw.info structure...\n"
     ]
    }
   ],
   "source": [
    "subj1021_raw1 = mne.io.read_raw_edf('/Volumes/Nexus/sEEG/sub-EM1021/sub-EM1021_session-EMU_task-resting_run-01.edf')\n",
    "subj1021_raw2 = mne.io.read_raw_edf('/Volumes/Nexus/sEEG/sub-EM1021/sub-EM1021_session-EMU_task-resting_run-02.edf')\n",
    "subj1021_raw3 = mne.io.read_raw_edf('/Volumes/Nexus/sEEG/sub-EM1021/sub-EM1021_session-EMU_task-resting_run-03.edf')"
   ]
  },
  {
   "cell_type": "code",
   "execution_count": 90,
   "metadata": {},
   "outputs": [
    {
     "data": {
      "text/html": [
       "<table class=\"table table-hover table-striped table-sm table-responsive small\">\n",
       "    <tr>\n",
       "        <th>Measurement date</th>\n",
       "        \n",
       "        <td>July 10, 2001  10:26:46 GMT</td>\n",
       "        \n",
       "    </tr>\n",
       "    <tr>\n",
       "        <th>Experimenter</th>\n",
       "        \n",
       "        <td>Unknown</td>\n",
       "        \n",
       "    </tr>\n",
       "        <th>Participant</th>\n",
       "        \n",
       "        <td>Unknown</td>\n",
       "        \n",
       "    </tr>\n",
       "    <tr>\n",
       "        <th>Digitized points</th>\n",
       "        \n",
       "        <td>Not available</td>\n",
       "        \n",
       "    </tr>\n",
       "    <tr>\n",
       "        <th>Good channels</th>\n",
       "        <td>18 EEG</td>\n",
       "    </tr>\n",
       "    <tr>\n",
       "        <th>Bad channels</th>\n",
       "        <td>None</td>\n",
       "    </tr>\n",
       "    <tr>\n",
       "        <th>EOG channels</th>\n",
       "        <td>Not available</td>\n",
       "    </tr>\n",
       "    <tr>\n",
       "        <th>ECG channels</th>\n",
       "        <td>Not available</td>\n",
       "    \n",
       "    <tr>\n",
       "        <th>Sampling frequency</th>\n",
       "        <td>1024.00 Hz</td>\n",
       "    </tr>\n",
       "    \n",
       "    \n",
       "    <tr>\n",
       "        <th>Highpass</th>\n",
       "        <td>0.00 Hz</td>\n",
       "    </tr>\n",
       "    \n",
       "    \n",
       "    <tr>\n",
       "        <th>Lowpass</th>\n",
       "        <td>512.00 Hz</td>\n",
       "    </tr>\n",
       "    \n",
       "    \n",
       "    \n",
       "    <tr>\n",
       "        <th>Filenames</th>\n",
       "        <td>sub-EM1021_session-EMU_task-resting_run-02.edf</td>\n",
       "    </tr>\n",
       "    \n",
       "    <tr>\n",
       "        <th>Duration</th>\n",
       "        <td>00:04:04 (HH:MM:SS)</td>\n",
       "    </tr>\n",
       "</table>"
      ],
      "text/plain": [
       "<RawEDF | sub-EM1021_session-EMU_task-resting_run-02.edf, 18 x 249664 (243.8 s), ~19 kB, data not loaded>"
      ]
     },
     "execution_count": 90,
     "metadata": {},
     "output_type": "execute_result"
    }
   ],
   "source": [
    "subj1021_raw2"
   ]
  },
  {
   "cell_type": "code",
   "execution_count": 18,
   "metadata": {},
   "outputs": [
    {
     "name": "stdout",
     "output_type": "stream",
     "text": [
      "Using qt as 2D backend.\n",
      "Using pyopengl with version 3.1.7\n"
     ]
    },
    {
     "data": {
      "text/plain": [
       "<mne_qt_browser._pg_figure.MNEQtBrowser(0x29ddaff80) at 0x29d59cb40>"
      ]
     },
     "execution_count": 18,
     "metadata": {},
     "output_type": "execute_result"
    },
    {
     "name": "stderr",
     "output_type": "stream",
     "text": [
      "qt.pointer.dispatch: skipping QEventPoint(id=1 ts=0 pos=0,0 scn=537.631,620.598 gbl=537.631,620.598 Released ellipse=(1x1 ∡ 0) vel=0,0 press=-537.631,-620.598 last=-537.631,-620.598 Δ 537.631,620.598) : no target window\n",
      "qt.pointer.dispatch: skipping QEventPoint(id=3 ts=0 pos=0,0 scn=-25.212,664.389 gbl=-25.212,664.389 Released ellipse=(1x1 ∡ 0) vel=0,0 press=25.212,-664.389 last=25.212,-664.389 Δ -25.212,664.389) : no target window\n",
      "qt.pointer.dispatch: skipping QEventPoint(id=1 ts=0 pos=0,0 scn=373.224,756.744 gbl=373.224,756.744 Released ellipse=(1x1 ∡ 0) vel=0,0 press=-373.224,-756.744 last=-373.224,-756.744 Δ 373.224,756.744) : no target window\n",
      "qt.pointer.dispatch: skipping QEventPoint(id=1 ts=0 pos=0,0 scn=1354.02,725.622 gbl=1354.02,725.622 Released ellipse=(1x1 ∡ 0) vel=0,0 press=-1354.02,-725.622 last=-1354.02,-725.622 Δ 1354.02,725.622) : no target window\n",
      "qt.pointer.dispatch: skipping QEventPoint(id=2 ts=0 pos=0,0 scn=1529.52,899.502 gbl=1529.52,899.502 Released ellipse=(1x1 ∡ 0) vel=0,0 press=-1529.52,-899.502 last=-1529.52,-899.502 Δ 1529.52,899.502) : no target window\n"
     ]
    },
    {
     "name": "stdout",
     "output_type": "stream",
     "text": [
      "Channels marked as bad:\n",
      "none\n"
     ]
    }
   ],
   "source": [
    "subj1021_raw3.plot()"
   ]
  },
  {
   "cell_type": "markdown",
   "metadata": {},
   "source": [
    "# sub-EM1023\n",
    "in run 2 there are non sEEG channels"
   ]
  },
  {
   "cell_type": "code",
   "execution_count": 44,
   "metadata": {},
   "outputs": [
    {
     "data": {
      "text/plain": [
       "['/Volumes/Nexus/sEEG/sub-EM1023/sub-EM1023_ses-EMU_task-resting_run-02.edf',\n",
       " '/Volumes/Nexus/sEEG/sub-EM1023/sub-EM1023_ses-EMU_task-resting_run-01.edf']"
      ]
     },
     "execution_count": 44,
     "metadata": {},
     "output_type": "execute_result"
    }
   ],
   "source": [
    "glob.glob('/Volumes/Nexus/sEEG/*1023*/*.edf')"
   ]
  },
  {
   "cell_type": "code",
   "execution_count": 19,
   "metadata": {},
   "outputs": [
    {
     "name": "stdout",
     "output_type": "stream",
     "text": [
      "Extracting EDF parameters from /Volumes/Nexus/sEEG/sub-EM1023/sub-EM1023_ses-EMU_task-resting_run-01.edf...\n",
      "EDF file detected\n",
      "Setting channel info structure...\n",
      "Creating raw.info structure...\n",
      "Extracting EDF parameters from /Volumes/Nexus/sEEG/sub-EM1023/sub-EM1023_ses-EMU_task-resting_run-02.edf...\n",
      "EDF file detected\n",
      "Setting channel info structure...\n",
      "Creating raw.info structure...\n"
     ]
    }
   ],
   "source": [
    "subj1023_raw1 = mne.io.read_raw_edf('/Volumes/Nexus/sEEG/sub-EM1023/sub-EM1023_ses-EMU_task-resting_run-01.edf')\n",
    "subj1023_raw2 = mne.io.read_raw_edf('/Volumes/Nexus/sEEG/sub-EM1023/sub-EM1023_ses-EMU_task-resting_run-02.edf')"
   ]
  },
  {
   "cell_type": "code",
   "execution_count": 87,
   "metadata": {},
   "outputs": [
    {
     "data": {
      "text/html": [
       "<table class=\"table table-hover table-striped table-sm table-responsive small\">\n",
       "    <tr>\n",
       "        <th>Measurement date</th>\n",
       "        \n",
       "        <td>August 14, 2001  07:59:35 GMT</td>\n",
       "        \n",
       "    </tr>\n",
       "    <tr>\n",
       "        <th>Experimenter</th>\n",
       "        \n",
       "        <td>Unknown</td>\n",
       "        \n",
       "    </tr>\n",
       "        <th>Participant</th>\n",
       "        \n",
       "        <td>Unknown</td>\n",
       "        \n",
       "    </tr>\n",
       "    <tr>\n",
       "        <th>Digitized points</th>\n",
       "        \n",
       "        <td>Not available</td>\n",
       "        \n",
       "    </tr>\n",
       "    <tr>\n",
       "        <th>Good channels</th>\n",
       "        <td>46 EEG</td>\n",
       "    </tr>\n",
       "    <tr>\n",
       "        <th>Bad channels</th>\n",
       "        <td>None</td>\n",
       "    </tr>\n",
       "    <tr>\n",
       "        <th>EOG channels</th>\n",
       "        <td>Not available</td>\n",
       "    </tr>\n",
       "    <tr>\n",
       "        <th>ECG channels</th>\n",
       "        <td>Not available</td>\n",
       "    \n",
       "    <tr>\n",
       "        <th>Sampling frequency</th>\n",
       "        <td>1024.00 Hz</td>\n",
       "    </tr>\n",
       "    \n",
       "    \n",
       "    <tr>\n",
       "        <th>Highpass</th>\n",
       "        <td>0.00 Hz</td>\n",
       "    </tr>\n",
       "    \n",
       "    \n",
       "    <tr>\n",
       "        <th>Lowpass</th>\n",
       "        <td>512.00 Hz</td>\n",
       "    </tr>\n",
       "    \n",
       "    \n",
       "    \n",
       "    <tr>\n",
       "        <th>Filenames</th>\n",
       "        <td>sub-EM1023_ses-EMU_task-resting_run-01.edf</td>\n",
       "    </tr>\n",
       "    \n",
       "    <tr>\n",
       "        <th>Duration</th>\n",
       "        <td>00:10:01 (HH:MM:SS)</td>\n",
       "    </tr>\n",
       "</table>"
      ],
      "text/plain": [
       "<RawEDF | sub-EM1023_ses-EMU_task-resting_run-01.edf, 46 x 614464 (600.1 s), ~40 kB, data not loaded>"
      ]
     },
     "execution_count": 87,
     "metadata": {},
     "output_type": "execute_result"
    }
   ],
   "source": [
    "subj1023_raw1"
   ]
  },
  {
   "cell_type": "code",
   "execution_count": 21,
   "metadata": {},
   "outputs": [
    {
     "data": {
      "text/html": [
       "<table class=\"table table-hover table-striped table-sm table-responsive small\">\n",
       "    <tr>\n",
       "        <th>Measurement date</th>\n",
       "        \n",
       "        <td>August 15, 2001  15:45:50 GMT</td>\n",
       "        \n",
       "    </tr>\n",
       "    <tr>\n",
       "        <th>Experimenter</th>\n",
       "        \n",
       "        <td>Unknown</td>\n",
       "        \n",
       "    </tr>\n",
       "        <th>Participant</th>\n",
       "        \n",
       "        <td>Unknown</td>\n",
       "        \n",
       "    </tr>\n",
       "    <tr>\n",
       "        <th>Digitized points</th>\n",
       "        \n",
       "        <td>Not available</td>\n",
       "        \n",
       "    </tr>\n",
       "    <tr>\n",
       "        <th>Good channels</th>\n",
       "        <td>276 EEG</td>\n",
       "    </tr>\n",
       "    <tr>\n",
       "        <th>Bad channels</th>\n",
       "        <td>None</td>\n",
       "    </tr>\n",
       "    <tr>\n",
       "        <th>EOG channels</th>\n",
       "        <td>Not available</td>\n",
       "    </tr>\n",
       "    <tr>\n",
       "        <th>ECG channels</th>\n",
       "        <td>Not available</td>\n",
       "    \n",
       "    <tr>\n",
       "        <th>Sampling frequency</th>\n",
       "        <td>1024.00 Hz</td>\n",
       "    </tr>\n",
       "    \n",
       "    \n",
       "    <tr>\n",
       "        <th>Highpass</th>\n",
       "        <td>0.00 Hz</td>\n",
       "    </tr>\n",
       "    \n",
       "    \n",
       "    <tr>\n",
       "        <th>Lowpass</th>\n",
       "        <td>512.00 Hz</td>\n",
       "    </tr>\n",
       "    \n",
       "    \n",
       "    \n",
       "    <tr>\n",
       "        <th>Filenames</th>\n",
       "        <td>sub-EM1023_ses-EMU_task-resting_run-02.edf</td>\n",
       "    </tr>\n",
       "    \n",
       "    <tr>\n",
       "        <th>Duration</th>\n",
       "        <td>00:09:17 (HH:MM:SS)</td>\n",
       "    </tr>\n",
       "</table>"
      ],
      "text/plain": [
       "<RawEDF | sub-EM1023_ses-EMU_task-resting_run-02.edf, 276 x 570048 (556.7 s), ~213 kB, data not loaded>"
      ]
     },
     "execution_count": 21,
     "metadata": {},
     "output_type": "execute_result"
    }
   ],
   "source": [
    "subj1023_raw2"
   ]
  },
  {
   "cell_type": "code",
   "execution_count": 79,
   "metadata": {},
   "outputs": [],
   "source": [
    "subj1023_ch = list(df_localization.query(\"Subject == 'EM1023'\")['label'])"
   ]
  },
  {
   "cell_type": "code",
   "execution_count": 81,
   "metadata": {},
   "outputs": [
    {
     "data": {
      "text/html": [
       "<table class=\"table table-hover table-striped table-sm table-responsive small\">\n",
       "    <tr>\n",
       "        <th>Measurement date</th>\n",
       "        \n",
       "        <td>August 15, 2001  15:45:50 GMT</td>\n",
       "        \n",
       "    </tr>\n",
       "    <tr>\n",
       "        <th>Experimenter</th>\n",
       "        \n",
       "        <td>Unknown</td>\n",
       "        \n",
       "    </tr>\n",
       "        <th>Participant</th>\n",
       "        \n",
       "        <td>Unknown</td>\n",
       "        \n",
       "    </tr>\n",
       "    <tr>\n",
       "        <th>Digitized points</th>\n",
       "        \n",
       "        <td>Not available</td>\n",
       "        \n",
       "    </tr>\n",
       "    <tr>\n",
       "        <th>Good channels</th>\n",
       "        <td>46 EEG</td>\n",
       "    </tr>\n",
       "    <tr>\n",
       "        <th>Bad channels</th>\n",
       "        <td>None</td>\n",
       "    </tr>\n",
       "    <tr>\n",
       "        <th>EOG channels</th>\n",
       "        <td>Not available</td>\n",
       "    </tr>\n",
       "    <tr>\n",
       "        <th>ECG channels</th>\n",
       "        <td>Not available</td>\n",
       "    \n",
       "    <tr>\n",
       "        <th>Sampling frequency</th>\n",
       "        <td>1024.00 Hz</td>\n",
       "    </tr>\n",
       "    \n",
       "    \n",
       "    <tr>\n",
       "        <th>Highpass</th>\n",
       "        <td>0.00 Hz</td>\n",
       "    </tr>\n",
       "    \n",
       "    \n",
       "    <tr>\n",
       "        <th>Lowpass</th>\n",
       "        <td>512.00 Hz</td>\n",
       "    </tr>\n",
       "    \n",
       "    \n",
       "    \n",
       "    <tr>\n",
       "        <th>Filenames</th>\n",
       "        <td>sub-EM1023_ses-EMU_task-resting_run-02.edf</td>\n",
       "    </tr>\n",
       "    \n",
       "    <tr>\n",
       "        <th>Duration</th>\n",
       "        <td>00:09:17 (HH:MM:SS)</td>\n",
       "    </tr>\n",
       "</table>"
      ],
      "text/plain": [
       "<RawEDF | sub-EM1023_ses-EMU_task-resting_run-02.edf, 46 x 570048 (556.7 s), ~40 kB, data not loaded>"
      ]
     },
     "execution_count": 81,
     "metadata": {},
     "output_type": "execute_result"
    }
   ],
   "source": [
    "subj1023_raw2.copy().pick(subj1023_ch)"
   ]
  },
  {
   "cell_type": "markdown",
   "metadata": {},
   "source": [
    "# sub-EM1029\n",
    "non sEEG channels"
   ]
  },
  {
   "cell_type": "code",
   "execution_count": 22,
   "metadata": {},
   "outputs": [
    {
     "data": {
      "text/plain": [
       "['/Volumes/Nexus/sEEG/sub-EM1029/sub-EM1029_ses-EMU_task-resting_run-01.edf']"
      ]
     },
     "execution_count": 22,
     "metadata": {},
     "output_type": "execute_result"
    }
   ],
   "source": [
    "glob.glob('/Volumes/Nexus/sEEG/*1029*/*.edf')"
   ]
  },
  {
   "cell_type": "code",
   "execution_count": 12,
   "metadata": {},
   "outputs": [
    {
     "name": "stdout",
     "output_type": "stream",
     "text": [
      "Extracting EDF parameters from /Volumes/Nexus/sEEG/sub-EM1029/sub-EM1029_ses-EMU_task-resting_run-01.edf...\n",
      "EDF file detected\n",
      "Setting channel info structure...\n",
      "Creating raw.info structure...\n"
     ]
    }
   ],
   "source": [
    "subj1029_raw1 = mne.io.read_raw_edf('/Volumes/Nexus/sEEG/sub-EM1029/sub-EM1029_ses-EMU_task-resting_run-01.edf')"
   ]
  },
  {
   "cell_type": "code",
   "execution_count": 25,
   "metadata": {},
   "outputs": [
    {
     "data": {
      "text/html": [
       "<table class=\"table table-hover table-striped table-sm table-responsive small\">\n",
       "    <tr>\n",
       "        <th>Measurement date</th>\n",
       "        \n",
       "        <td>September 23, 2001  07:17:18 GMT</td>\n",
       "        \n",
       "    </tr>\n",
       "    <tr>\n",
       "        <th>Experimenter</th>\n",
       "        \n",
       "        <td>Unknown</td>\n",
       "        \n",
       "    </tr>\n",
       "        <th>Participant</th>\n",
       "        \n",
       "        <td>Unknown</td>\n",
       "        \n",
       "    </tr>\n",
       "    <tr>\n",
       "        <th>Digitized points</th>\n",
       "        \n",
       "        <td>Not available</td>\n",
       "        \n",
       "    </tr>\n",
       "    <tr>\n",
       "        <th>Good channels</th>\n",
       "        <td>60 EEG</td>\n",
       "    </tr>\n",
       "    <tr>\n",
       "        <th>Bad channels</th>\n",
       "        <td>None</td>\n",
       "    </tr>\n",
       "    <tr>\n",
       "        <th>EOG channels</th>\n",
       "        <td>Not available</td>\n",
       "    </tr>\n",
       "    <tr>\n",
       "        <th>ECG channels</th>\n",
       "        <td>Not available</td>\n",
       "    \n",
       "    <tr>\n",
       "        <th>Sampling frequency</th>\n",
       "        <td>1024.00 Hz</td>\n",
       "    </tr>\n",
       "    \n",
       "    \n",
       "    <tr>\n",
       "        <th>Highpass</th>\n",
       "        <td>0.00 Hz</td>\n",
       "    </tr>\n",
       "    \n",
       "    \n",
       "    <tr>\n",
       "        <th>Lowpass</th>\n",
       "        <td>512.00 Hz</td>\n",
       "    </tr>\n",
       "    \n",
       "    \n",
       "    \n",
       "    <tr>\n",
       "        <th>Filenames</th>\n",
       "        <td>sub-EM1029_ses-EMU_task-resting_run-01.edf</td>\n",
       "    </tr>\n",
       "    \n",
       "    <tr>\n",
       "        <th>Duration</th>\n",
       "        <td>00:09:60 (HH:MM:SS)</td>\n",
       "    </tr>\n",
       "</table>"
      ],
      "text/plain": [
       "<RawEDF | sub-EM1029_ses-EMU_task-resting_run-01.edf, 60 x 614400 (600.0 s), ~50 kB, data not loaded>"
      ]
     },
     "execution_count": 25,
     "metadata": {},
     "output_type": "execute_result"
    }
   ],
   "source": [
    "subj1029_raw1"
   ]
  },
  {
   "cell_type": "code",
   "execution_count": 93,
   "metadata": {},
   "outputs": [
    {
     "name": "stdout",
     "output_type": "stream",
     "text": [
      "Using pyopengl with version 3.1.7\n"
     ]
    },
    {
     "data": {
      "text/plain": [
       "<mne_qt_browser._pg_figure.MNEQtBrowser(0x2a20ba070) at 0x28bf2a540>"
      ]
     },
     "execution_count": 93,
     "metadata": {},
     "output_type": "execute_result"
    },
    {
     "name": "stderr",
     "output_type": "stream",
     "text": [
      "qt.pointer.dispatch: skipping QEventPoint(id=0 ts=0 pos=0,0 scn=1460.71,767.785 gbl=1460.71,767.785 Released ellipse=(1x1 ∡ 0) vel=0,0 press=-1460.71,-767.785 last=-1460.71,-767.785 Δ 1460.71,767.785) : no target window\n",
      "qt.pointer.dispatch: skipping QEventPoint(id=1 ts=0 pos=0,0 scn=1380.61,764.725 gbl=1380.61,764.725 Released ellipse=(1x1 ∡ 0) vel=0,0 press=-1380.61,-764.725 last=-1380.61,-764.725 Δ 1380.61,764.725) : no target window\n",
      "qt.pointer.dispatch: skipping QEventPoint(id=1 ts=0 pos=0,0 scn=1092.44,679.674 gbl=1092.44,679.674 Released ellipse=(1x1 ∡ 0) vel=0,0 press=-1092.44,-679.674 last=-1092.44,-679.674 Δ 1092.44,679.674) : no target window\n",
      "qt.pointer.dispatch: skipping QEventPoint(id=1 ts=0 pos=0,0 scn=956.5,858.827 gbl=956.5,858.827 Released ellipse=(1x1 ∡ 0) vel=0,0 press=-956.5,-858.827 last=-956.5,-858.827 Δ 956.5,858.827) : no target window\n"
     ]
    }
   ],
   "source": [
    "subj1029_raw1.plot()"
   ]
  },
  {
   "cell_type": "code",
   "execution_count": 13,
   "metadata": {},
   "outputs": [
    {
     "name": "stdout",
     "output_type": "stream",
     "text": [
      "Extracting EDF parameters from /Volumes/Nexus/Users/zouj/sEEG_data/preprocessed/sub-EM1029_ses-EMU_task-resting_run-01.edf...\n",
      "EDF file detected\n",
      "Setting channel info structure...\n",
      "Creating raw.info structure...\n"
     ]
    }
   ],
   "source": [
    "subj1029_preprocessed1 = mne.io.read_raw_edf(\n",
    "    '/Volumes/Nexus/Users/zouj/sEEG_data/preprocessed/sub-EM1029_ses-EMU_task-resting_run-01.edf'\n",
    "    )"
   ]
  },
  {
   "cell_type": "code",
   "execution_count": 14,
   "metadata": {},
   "outputs": [
    {
     "name": "stdout",
     "output_type": "stream",
     "text": [
      "Using pyopengl with version 3.1.7\n"
     ]
    },
    {
     "data": {
      "text/plain": [
       "<mne_qt_browser._pg_figure.MNEQtBrowser(0x295a9ae50) at 0x29f331800>"
      ]
     },
     "execution_count": 14,
     "metadata": {},
     "output_type": "execute_result"
    },
    {
     "name": "stderr",
     "output_type": "stream",
     "text": [
      "qt.pointer.dispatch: skipping QEventPoint(id=0 ts=0 pos=0,0 scn=186.611,303.092 gbl=186.611,303.092 Released ellipse=(1x1 ∡ 0) vel=0,0 press=-186.611,-303.092 last=-186.611,-303.092 Δ 186.611,303.092) : no target window\n",
      "qt.pointer.dispatch: skipping QEventPoint(id=1 ts=0 pos=0,0 scn=152.053,313.172 gbl=152.053,313.172 Released ellipse=(1x1 ∡ 0) vel=0,0 press=-152.053,-313.172 last=-152.053,-313.172 Δ 152.053,313.172) : no target window\n",
      "qt.pointer.dispatch: skipping QEventPoint(id=1 ts=0 pos=0,0 scn=346.225,759.407 gbl=346.225,759.407 Released ellipse=(1x1 ∡ 0) vel=0,0 press=-346.225,-759.407 last=-346.225,-759.407 Δ 346.225,759.407) : no target window\n",
      "qt.pointer.dispatch: skipping QEventPoint(id=1 ts=0 pos=0,0 scn=288.365,835.593 gbl=288.365,835.593 Released ellipse=(1x1 ∡ 0) vel=0,0 press=-288.365,-835.593 last=-288.365,-835.593 Δ 288.365,835.593) : no target window\n",
      "qt.pointer.dispatch: skipping QEventPoint(id=1 ts=0 pos=0,0 scn=155.233,639.483 gbl=155.233,639.483 Released ellipse=(1x1 ∡ 0) vel=0,0 press=-155.233,-639.483 last=-155.233,-639.483 Δ 155.233,639.483) : no target window\n",
      "qt.pointer.dispatch: skipping QEventPoint(id=1 ts=0 pos=0,0 scn=298.078,745.73 gbl=298.078,745.73 Released ellipse=(1x1 ∡ 0) vel=0,0 press=-298.078,-745.73 last=-298.078,-745.73 Δ 298.078,745.73) : no target window\n",
      "qt.pointer.dispatch: skipping QEventPoint(id=1 ts=0 pos=0,0 scn=224.395,625.3 gbl=224.395,625.3 Released ellipse=(1x1 ∡ 0) vel=0,0 press=-224.395,-625.3 last=-224.395,-625.3 Δ 224.395,625.3) : no target window\n",
      "qt.pointer.dispatch: skipping QEventPoint(id=1 ts=0 pos=0,0 scn=563.199,559.774 gbl=563.199,559.774 Released ellipse=(1x1 ∡ 0) vel=0,0 press=-563.199,-559.774 last=-563.199,-559.774 Δ 563.199,559.774) : no target window\n"
     ]
    }
   ],
   "source": [
    "subj1029_preprocessed1.plot()"
   ]
  },
  {
   "cell_type": "code",
   "execution_count": 18,
   "metadata": {},
   "outputs": [
    {
     "name": "stdout",
     "output_type": "stream",
     "text": [
      "Effective window size : 2.000 (s)\n"
     ]
    },
    {
     "name": "stderr",
     "output_type": "stream",
     "text": [
      "/var/folders/3b/c572vxrx1rddt5284f3d5zh80000gn/T/ipykernel_43060/1112540063.py:1: RuntimeWarning: Channel locations not available. Disabling spatial colors.\n",
      "  subj1029_preprocessed1.copy().pick(['LCM2', 'LCM4']).compute_psd(fmin = 1, fmax = 100).plot()\n",
      "/Users/jasminezou/Projects/mne-python/mne/viz/utils.py:151: UserWarning: Matplotlib is currently using module://matplotlib_inline.backend_inline, which is a non-GUI backend, so cannot show the figure.\n",
      "  (fig or plt).show(**kwargs)\n"
     ]
    },
    {
     "data": {
      "image/png": "[encoded data removed]",
      "text/plain": [
       "<MNELineFigure size 1000x350 with 1 Axes>"
      ]
     },
     "execution_count": 18,
     "metadata": {},
     "output_type": "execute_result"
    }
   ],
   "source": [
    "subj1029_preprocessed1.copy().pick(['LCM2', 'LCM4']).compute_psd(fmin = 1, fmax = 100).plot()"
   ]
  },
  {
   "cell_type": "code",
   "execution_count": 19,
   "metadata": {},
   "outputs": [
    {
     "name": "stdout",
     "output_type": "stream",
     "text": [
      "Effective window size : 2.000 (s)\n"
     ]
    },
    {
     "name": "stderr",
     "output_type": "stream",
     "text": [
      "/var/folders/3b/c572vxrx1rddt5284f3d5zh80000gn/T/ipykernel_43060/397653342.py:1: RuntimeWarning: Channel locations not available. Disabling spatial colors.\n",
      "  subj1029_preprocessed1.copy().pick(['LCM2', 'LCM4']).compute_psd(fmin = 1, fmax = 100).plot(xscale = 'log')\n",
      "/Users/jasminezou/Projects/mne-python/mne/viz/utils.py:151: UserWarning: Matplotlib is currently using module://matplotlib_inline.backend_inline, which is a non-GUI backend, so cannot show the figure.\n",
      "  (fig or plt).show(**kwargs)\n"
     ]
    },
    {
     "data": {
      "image/png": "[encoded data removed]",
      "text/plain": [
       "<MNELineFigure size 1000x350 with 1 Axes>"
      ]
     },
     "execution_count": 19,
     "metadata": {},
     "output_type": "execute_result"
    }
   ],
   "source": [
    "subj1029_preprocessed1.copy().pick(['LCM2', 'LCM4']).compute_psd(fmin = 1, fmax = 100).plot(xscale = 'log')"
   ]
  },
  {
   "cell_type": "code",
   "execution_count": null,
   "metadata": {},
   "outputs": [],
   "source": []
  },
  {
   "cell_type": "code",
   "execution_count": 30,
   "metadata": {},
   "outputs": [
    {
     "name": "stdout",
     "output_type": "stream",
     "text": [
      "Effective window size : 2.000 (s)\n",
      "Need more than one channel to make topography for eeg. Disabling interactivity.\n"
     ]
    },
    {
     "name": "stderr",
     "output_type": "stream",
     "text": [
      "/var/folders/3b/c572vxrx1rddt5284f3d5zh80000gn/T/ipykernel_57070/2451904872.py:1: RuntimeWarning: Channel locations not available. Disabling spatial colors.\n",
      "  subj1029_raw1.pick(['RCM16']).compute_psd().plot()\n",
      "/Users/jasminezou/Projects/mne-python/mne/viz/utils.py:151: UserWarning: Matplotlib is currently using module://matplotlib_inline.backend_inline, which is a non-GUI backend, so cannot show the figure.\n",
      "  (fig or plt).show(**kwargs)\n"
     ]
    },
    {
     "data": {
      "image/png": "[encoded data removed]",
      "text/plain": [
       "<MNELineFigure size 1000x350 with 1 Axes>"
      ]
     },
     "execution_count": 30,
     "metadata": {},
     "output_type": "execute_result"
    },
    {
     "data": {
      "image/png": "[encoded data removed]",
      "text/plain": [
       "<MNELineFigure size 1000x350 with 1 Axes>"
      ]
     },
     "metadata": {},
     "output_type": "display_data"
    }
   ],
   "source": [
    "subj1029_raw1.pick(['RCM16']).compute_psd().plot()"
   ]
  },
  {
   "cell_type": "markdown",
   "metadata": {},
   "source": [
    "# sub-EM1035"
   ]
  },
  {
   "cell_type": "code",
   "execution_count": 3,
   "metadata": {},
   "outputs": [
    {
     "data": {
      "text/plain": [
       "['/Volumes/Nexus/sEEG/sub-EM1035/EM1035_ses-EMU_task-resting_run-1.edf']"
      ]
     },
     "execution_count": 3,
     "metadata": {},
     "output_type": "execute_result"
    }
   ],
   "source": [
    "glob.glob('/Volumes/Nexus/sEEG/*1035*/*.edf')"
   ]
  },
  {
   "cell_type": "code",
   "execution_count": 7,
   "metadata": {},
   "outputs": [
    {
     "name": "stdout",
     "output_type": "stream",
     "text": [
      "Extracting EDF parameters from /Volumes/Nexus/sEEG/sub-EM1035/EM1035_ses-EMU_task-resting_run-1.edf...\n",
      "EDF file detected\n",
      "Setting channel info structure...\n",
      "Creating raw.info structure...\n",
      "Reading 0 ... 614399  =      0.000 ...   599.999 secs...\n"
     ]
    }
   ],
   "source": [
    "subj1035_raw1 = mne.io.read_raw_edf('/Volumes/Nexus/sEEG/sub-EM1035/EM1035_ses-EMU_task-resting_run-1.edf',\n",
    "                                    preload = True)"
   ]
  },
  {
   "cell_type": "code",
   "execution_count": 34,
   "metadata": {},
   "outputs": [
    {
     "data": {
      "text/html": [
       "<table class=\"table table-hover table-striped table-sm table-responsive small\">\n",
       "    <tr>\n",
       "        <th>Measurement date</th>\n",
       "        \n",
       "        <td>November 25, 2001  15:47:04 GMT</td>\n",
       "        \n",
       "    </tr>\n",
       "    <tr>\n",
       "        <th>Experimenter</th>\n",
       "        \n",
       "        <td>Unknown</td>\n",
       "        \n",
       "    </tr>\n",
       "        <th>Participant</th>\n",
       "        \n",
       "        <td>Unknown</td>\n",
       "        \n",
       "    </tr>\n",
       "    <tr>\n",
       "        <th>Digitized points</th>\n",
       "        \n",
       "        <td>Not available</td>\n",
       "        \n",
       "    </tr>\n",
       "    <tr>\n",
       "        <th>Good channels</th>\n",
       "        <td>32 EEG</td>\n",
       "    </tr>\n",
       "    <tr>\n",
       "        <th>Bad channels</th>\n",
       "        <td>None</td>\n",
       "    </tr>\n",
       "    <tr>\n",
       "        <th>EOG channels</th>\n",
       "        <td>Not available</td>\n",
       "    </tr>\n",
       "    <tr>\n",
       "        <th>ECG channels</th>\n",
       "        <td>Not available</td>\n",
       "    \n",
       "    <tr>\n",
       "        <th>Sampling frequency</th>\n",
       "        <td>1024.00 Hz</td>\n",
       "    </tr>\n",
       "    \n",
       "    \n",
       "    <tr>\n",
       "        <th>Highpass</th>\n",
       "        <td>0.00 Hz</td>\n",
       "    </tr>\n",
       "    \n",
       "    \n",
       "    <tr>\n",
       "        <th>Lowpass</th>\n",
       "        <td>512.00 Hz</td>\n",
       "    </tr>\n",
       "    \n",
       "    \n",
       "    \n",
       "    <tr>\n",
       "        <th>Filenames</th>\n",
       "        <td>EM1035_ses-EMU_task-resting_run-1.edf</td>\n",
       "    </tr>\n",
       "    \n",
       "    <tr>\n",
       "        <th>Duration</th>\n",
       "        <td>00:09:60 (HH:MM:SS)</td>\n",
       "    </tr>\n",
       "</table>"
      ],
      "text/plain": [
       "<RawEDF | EM1035_ses-EMU_task-resting_run-1.edf, 32 x 614400 (600.0 s), ~29 kB, data not loaded>"
      ]
     },
     "execution_count": 34,
     "metadata": {},
     "output_type": "execute_result"
    }
   ],
   "source": [
    "subj1035_raw1"
   ]
  },
  {
   "cell_type": "code",
   "execution_count": 5,
   "metadata": {},
   "outputs": [
    {
     "name": "stdout",
     "output_type": "stream",
     "text": [
      "Using qt as 2D backend.\n",
      "Using pyopengl with version 3.1.7\n"
     ]
    },
    {
     "data": {
      "text/plain": [
       "<mne_qt_browser._pg_figure.MNEQtBrowser(0x29b135ea0) at 0x296d78f80>"
      ]
     },
     "execution_count": 5,
     "metadata": {},
     "output_type": "execute_result"
    },
    {
     "name": "stdout",
     "output_type": "stream",
     "text": [
      "Channels marked as bad:\n",
      "none\n"
     ]
    }
   ],
   "source": [
    "subj1035_raw1.plot()"
   ]
  },
  {
   "cell_type": "code",
   "execution_count": 8,
   "metadata": {},
   "outputs": [
    {
     "name": "stdout",
     "output_type": "stream",
     "text": [
      "EEG channel type selected for re-referencing\n",
      "Applying average reference.\n",
      "Applying a custom ('EEG',) reference.\n"
     ]
    }
   ],
   "source": [
    "CA, ref_data  = mne.set_eeg_reference(subj1035_raw1, 'average', copy = True )"
   ]
  },
  {
   "cell_type": "code",
   "execution_count": 10,
   "metadata": {},
   "outputs": [
    {
     "name": "stdout",
     "output_type": "stream",
     "text": [
      "Using pyopengl with version 3.1.7\n"
     ]
    },
    {
     "data": {
      "text/plain": [
       "<mne_qt_browser._pg_figure.MNEQtBrowser(0x29b1eddf0) at 0x29f311ac0>"
      ]
     },
     "execution_count": 10,
     "metadata": {},
     "output_type": "execute_result"
    },
    {
     "name": "stderr",
     "output_type": "stream",
     "text": [
      "qt.pointer.dispatch: skipping QEventPoint(id=0 ts=0 pos=0,0 scn=692.966,330.113 gbl=692.966,330.113 Released ellipse=(1x1 ∡ 0) vel=0,0 press=-692.966,-330.113 last=-692.966,-330.113 Δ 692.966,330.113) : no target window\n",
      "qt.pointer.dispatch: skipping QEventPoint(id=1 ts=0 pos=0,0 scn=661.464,371.153 gbl=661.464,371.153 Released ellipse=(1x1 ∡ 0) vel=0,0 press=-661.464,-371.153 last=-661.464,-371.153 Δ 661.464,371.153) : no target window\n",
      "qt.pointer.dispatch: skipping QEventPoint(id=1 ts=0 pos=0,0 scn=603.824,294.478 gbl=603.824,294.478 Released ellipse=(1x1 ∡ 0) vel=0,0 press=-603.824,-294.478 last=-603.824,-294.478 Δ 603.824,294.478) : no target window\n",
      "qt.pointer.dispatch: skipping QEventPoint(id=1 ts=0 pos=0,0 scn=484.676,830.126 gbl=484.676,830.126 Released ellipse=(1x1 ∡ 0) vel=0,0 press=-484.676,-830.126 last=-484.676,-830.126 Δ 484.676,830.126) : no target window\n"
     ]
    },
    {
     "name": "stdout",
     "output_type": "stream",
     "text": [
      "Channels marked as bad:\n",
      "none\n"
     ]
    }
   ],
   "source": [
    "CA.plot()"
   ]
  },
  {
   "cell_type": "markdown",
   "metadata": {},
   "source": [
    "# sub-EM1061\n",
    "non sEEG channels"
   ]
  },
  {
   "cell_type": "code",
   "execution_count": 2,
   "metadata": {},
   "outputs": [
    {
     "data": {
      "text/plain": [
       "['/Volumes/Nexus/sEEG/sub-EM1061/sub-EM1061_ses-EMU_task-resting_run-01_ieeg.EDF']"
      ]
     },
     "execution_count": 2,
     "metadata": {},
     "output_type": "execute_result"
    }
   ],
   "source": [
    "glob.glob('/Volumes/Nexus/sEEG/*1061*/*.EDF')"
   ]
  },
  {
   "cell_type": "code",
   "execution_count": 51,
   "metadata": {},
   "outputs": [
    {
     "name": "stdout",
     "output_type": "stream",
     "text": [
      "Extracting EDF parameters from /Volumes/Nexus/sEEG/sub-EM1061/sub-EM1061_ses-EMU_task-resting_run-01_ieeg.EDF...\n",
      "EDF file detected\n",
      "Setting channel info structure...\n",
      "Creating raw.info structure...\n"
     ]
    }
   ],
   "source": [
    "subj1061_raw1 = mne.io.read_raw_edf('/Volumes/Nexus/sEEG/sub-EM1061/sub-EM1061_ses-EMU_task-resting_run-01_ieeg.EDF')"
   ]
  },
  {
   "cell_type": "code",
   "execution_count": 3,
   "metadata": {},
   "outputs": [
    {
     "name": "stdout",
     "output_type": "stream",
     "text": [
      "Extracting EDF parameters from /Volumes/Nexus/sEEG/sub-EM1061/sub-EM1061_ses-EMU_task-resting_run-01_ieeg.EDF...\n",
      "EDF file detected\n",
      "Setting channel info structure...\n",
      "Creating raw.info structure...\n"
     ]
    }
   ],
   "source": [
    "subj1061_raw1 = mne.io.read_raw_edf('/Volumes/Nexus/sEEG/sub-EM1061/sub-EM1061_ses-EMU_task-resting_run-01_ieeg.EDF')"
   ]
  },
  {
   "cell_type": "code",
   "execution_count": 6,
   "metadata": {},
   "outputs": [],
   "source": [
    "subj1061_ch_list = list(df_localization.query(\"Subject == 'EM1061'\")['label'])"
   ]
  },
  {
   "cell_type": "code",
   "execution_count": 7,
   "metadata": {},
   "outputs": [
    {
     "name": "stdout",
     "output_type": "stream",
     "text": [
      "Using qt as 2D backend.\n",
      "Using pyopengl with version 3.1.7\n"
     ]
    },
    {
     "data": {
      "text/plain": [
       "<mne_qt_browser._pg_figure.MNEQtBrowser(0x17ac6eea0) at 0x17ec40940>"
      ]
     },
     "execution_count": 7,
     "metadata": {},
     "output_type": "execute_result"
    },
    {
     "name": "stderr",
     "output_type": "stream",
     "text": [
      "qt.pointer.dispatch: skipping QEventPoint(id=1 ts=0 pos=0,0 scn=986.34,980.981 gbl=986.34,980.981 Released ellipse=(1x1 ∡ 0) vel=0,0 press=-986.34,-980.981 last=-986.34,-980.981 Δ 986.34,980.981) : no target window\n",
      "qt.pointer.dispatch: skipping QEventPoint(id=1 ts=0 pos=0,0 scn=487.3,419.129 gbl=487.3,419.129 Released ellipse=(1x1 ∡ 0) vel=0,0 press=-487.3,-419.129 last=-487.3,-419.129 Δ 487.3,419.129) : no target window\n",
      "qt.pointer.dispatch: skipping QEventPoint(id=1 ts=0 pos=0,0 scn=25.4524,575.687 gbl=25.4524,575.687 Released ellipse=(1x1 ∡ 0) vel=0,0 press=-25.4524,-575.687 last=-25.4524,-575.687 Δ 25.4524,575.687) : no target window\n",
      "qt.pointer.dispatch: skipping QEventPoint(id=1 ts=0 pos=0,0 scn=119.37,809.478 gbl=119.37,809.478 Released ellipse=(1x1 ∡ 0) vel=0,0 press=-119.37,-809.478 last=-119.37,-809.478 Δ 119.37,809.478) : no target window\n",
      "qt.pointer.dispatch: skipping QEventPoint(id=1 ts=0 pos=0,0 scn=81.6907,457.947 gbl=81.6907,457.947 Released ellipse=(1x1 ∡ 0) vel=0,0 press=-81.6907,-457.947 last=-81.6907,-457.947 Δ 81.6907,457.947) : no target window\n",
      "qt.pointer.dispatch: skipping QEventPoint(id=1 ts=0 pos=0,0 scn=589.42,498.626 gbl=589.42,498.626 Released ellipse=(1x1 ∡ 0) vel=0,0 press=-589.42,-498.626 last=-589.42,-498.626 Δ 589.42,498.626) : no target window\n",
      "qt.pointer.dispatch: skipping QEventPoint(id=1 ts=0 pos=0,0 scn=579.792,735.362 gbl=579.792,735.362 Released ellipse=(1x1 ∡ 0) vel=0,0 press=-579.792,-735.362 last=-579.792,-735.362 Δ 579.792,735.362) : no target window\n"
     ]
    },
    {
     "name": "stdout",
     "output_type": "stream",
     "text": [
      "Channels marked as bad:\n",
      "['RFM5']\n"
     ]
    }
   ],
   "source": [
    "subj1061_raw1.pick(subj1061_ch_list).plot()"
   ]
  },
  {
   "cell_type": "markdown",
   "metadata": {},
   "source": [
    "# sub-EM1063\n",
    "non sEEG channels"
   ]
  },
  {
   "cell_type": "code",
   "execution_count": 38,
   "metadata": {},
   "outputs": [
    {
     "data": {
      "text/plain": [
       "['/Volumes/Nexus/sEEG/sub-EM1063/sub-EM1063_ses-EMU_task-resting_run-01_ieeg.EDF']"
      ]
     },
     "execution_count": 38,
     "metadata": {},
     "output_type": "execute_result"
    }
   ],
   "source": [
    "glob.glob('/Volumes/Nexus/sEEG/*1063*/*.EDF')"
   ]
  },
  {
   "cell_type": "code",
   "execution_count": 12,
   "metadata": {},
   "outputs": [
    {
     "name": "stdout",
     "output_type": "stream",
     "text": [
      "Extracting EDF parameters from /Volumes/Nexus/sEEG/sub-EM1063/sub-EM1063_ses-EMU_task-resting_run-01_ieeg.EDF...\n",
      "EDF file detected\n",
      "Setting channel info structure...\n",
      "Creating raw.info structure...\n"
     ]
    }
   ],
   "source": [
    "subj1063_raw1 = mne.io.read_raw_edf('/Volumes/Nexus/sEEG/sub-EM1063/sub-EM1063_ses-EMU_task-resting_run-01_ieeg.EDF')"
   ]
  },
  {
   "cell_type": "code",
   "execution_count": 44,
   "metadata": {},
   "outputs": [
    {
     "data": {
      "text/html": [
       "<table class=\"table table-hover table-striped table-sm table-responsive small\">\n",
       "    <tr>\n",
       "        <th>Measurement date</th>\n",
       "        \n",
       "        <td>August 03, 2001  06:56:30 GMT</td>\n",
       "        \n",
       "    </tr>\n",
       "    <tr>\n",
       "        <th>Experimenter</th>\n",
       "        \n",
       "        <td>Unknown</td>\n",
       "        \n",
       "    </tr>\n",
       "        <th>Participant</th>\n",
       "        \n",
       "        <td>Unknown</td>\n",
       "        \n",
       "    </tr>\n",
       "    <tr>\n",
       "        <th>Digitized points</th>\n",
       "        \n",
       "        <td>Not available</td>\n",
       "        \n",
       "    </tr>\n",
       "    <tr>\n",
       "        <th>Good channels</th>\n",
       "        <td>148 EEG</td>\n",
       "    </tr>\n",
       "    <tr>\n",
       "        <th>Bad channels</th>\n",
       "        <td>None</td>\n",
       "    </tr>\n",
       "    <tr>\n",
       "        <th>EOG channels</th>\n",
       "        <td>Not available</td>\n",
       "    </tr>\n",
       "    <tr>\n",
       "        <th>ECG channels</th>\n",
       "        <td>Not available</td>\n",
       "    \n",
       "    <tr>\n",
       "        <th>Sampling frequency</th>\n",
       "        <td>2048.00 Hz</td>\n",
       "    </tr>\n",
       "    \n",
       "    \n",
       "    <tr>\n",
       "        <th>Highpass</th>\n",
       "        <td>0.00 Hz</td>\n",
       "    </tr>\n",
       "    \n",
       "    \n",
       "    <tr>\n",
       "        <th>Lowpass</th>\n",
       "        <td>1024.00 Hz</td>\n",
       "    </tr>\n",
       "    \n",
       "    \n",
       "    \n",
       "    <tr>\n",
       "        <th>Filenames</th>\n",
       "        <td>sub-EM1063_ses-EMU_task-resting_run-01_ieeg.EDF</td>\n",
       "    </tr>\n",
       "    \n",
       "    <tr>\n",
       "        <th>Duration</th>\n",
       "        <td>01:00:01 (HH:MM:SS)</td>\n",
       "    </tr>\n",
       "</table>"
      ],
      "text/plain": [
       "<RawEDF | sub-EM1063_ses-EMU_task-resting_run-01_ieeg.EDF, 148 x 7374080 (3600.6 s), ~116 kB, data not loaded>"
      ]
     },
     "execution_count": 44,
     "metadata": {},
     "output_type": "execute_result"
    }
   ],
   "source": [
    "subj1063_raw1"
   ]
  },
  {
   "cell_type": "code",
   "execution_count": 13,
   "metadata": {},
   "outputs": [],
   "source": [
    "subj1063_ch_list = list(df_localization.query(\"Subject == 'EM1063'\")['label'])"
   ]
  },
  {
   "cell_type": "code",
   "execution_count": 14,
   "metadata": {},
   "outputs": [
    {
     "name": "stdout",
     "output_type": "stream",
     "text": [
      "Using pyopengl with version 3.1.7\n"
     ]
    },
    {
     "data": {
      "text/plain": [
       "<mne_qt_browser._pg_figure.MNEQtBrowser(0x285713690) at 0x282a7af00>"
      ]
     },
     "execution_count": 14,
     "metadata": {},
     "output_type": "execute_result"
    },
    {
     "name": "stderr",
     "output_type": "stream",
     "text": [
      "qt.pointer.dispatch: skipping QEventPoint(id=3 ts=0 pos=0,0 scn=686.127,458.266 gbl=686.127,458.266 Released ellipse=(1x1 ∡ 0) vel=0,0 press=-686.127,-458.266 last=-686.127,-458.266 Δ 686.127,458.266) : no target window\n"
     ]
    },
    {
     "name": "stdout",
     "output_type": "stream",
     "text": [
      "Channels marked as bad:\n",
      "none\n",
      "Channels marked as bad:\n",
      "none\n"
     ]
    }
   ],
   "source": [
    "subj1063_raw1.pick(subj1063_ch_list).plot()"
   ]
  },
  {
   "cell_type": "markdown",
   "metadata": {},
   "source": [
    "# sub-EM1066\n",
    "non sEEG channels"
   ]
  },
  {
   "cell_type": "code",
   "execution_count": 39,
   "metadata": {},
   "outputs": [
    {
     "data": {
      "text/plain": [
       "['/Volumes/Nexus/sEEG/sub-EM1066/sub-EM1066_ses-EMU_task-resting_run-01_ieeg.EDF']"
      ]
     },
     "execution_count": 39,
     "metadata": {},
     "output_type": "execute_result"
    }
   ],
   "source": [
    "glob.glob('/Volumes/Nexus/sEEG/*1066*/*.EDF')"
   ]
  },
  {
   "cell_type": "code",
   "execution_count": 8,
   "metadata": {},
   "outputs": [
    {
     "name": "stdout",
     "output_type": "stream",
     "text": [
      "Extracting EDF parameters from /Volumes/Nexus/sEEG/sub-EM1066/sub-EM1066_ses-EMU_task-resting_run-01_ieeg.EDF...\n",
      "EDF file detected\n",
      "Setting channel info structure...\n",
      "Creating raw.info structure...\n"
     ]
    }
   ],
   "source": [
    "subj1066_raw1 = mne.io.read_raw_edf('/Volumes/Nexus/sEEG/sub-EM1066/sub-EM1066_ses-EMU_task-resting_run-01_ieeg.EDF')"
   ]
  },
  {
   "cell_type": "code",
   "execution_count": 46,
   "metadata": {},
   "outputs": [
    {
     "data": {
      "text/html": [
       "<table class=\"table table-hover table-striped table-sm table-responsive small\">\n",
       "    <tr>\n",
       "        <th>Measurement date</th>\n",
       "        \n",
       "        <td>August 18, 2001  08:23:20 GMT</td>\n",
       "        \n",
       "    </tr>\n",
       "    <tr>\n",
       "        <th>Experimenter</th>\n",
       "        \n",
       "        <td>Unknown</td>\n",
       "        \n",
       "    </tr>\n",
       "        <th>Participant</th>\n",
       "        \n",
       "        <td>Unknown</td>\n",
       "        \n",
       "    </tr>\n",
       "    <tr>\n",
       "        <th>Digitized points</th>\n",
       "        \n",
       "        <td>Not available</td>\n",
       "        \n",
       "    </tr>\n",
       "    <tr>\n",
       "        <th>Good channels</th>\n",
       "        <td>276 EEG</td>\n",
       "    </tr>\n",
       "    <tr>\n",
       "        <th>Bad channels</th>\n",
       "        <td>None</td>\n",
       "    </tr>\n",
       "    <tr>\n",
       "        <th>EOG channels</th>\n",
       "        <td>Not available</td>\n",
       "    </tr>\n",
       "    <tr>\n",
       "        <th>ECG channels</th>\n",
       "        <td>Not available</td>\n",
       "    \n",
       "    <tr>\n",
       "        <th>Sampling frequency</th>\n",
       "        <td>1024.00 Hz</td>\n",
       "    </tr>\n",
       "    \n",
       "    \n",
       "    <tr>\n",
       "        <th>Highpass</th>\n",
       "        <td>0.00 Hz</td>\n",
       "    </tr>\n",
       "    \n",
       "    \n",
       "    <tr>\n",
       "        <th>Lowpass</th>\n",
       "        <td>512.00 Hz</td>\n",
       "    </tr>\n",
       "    \n",
       "    \n",
       "    \n",
       "    <tr>\n",
       "        <th>Filenames</th>\n",
       "        <td>sub-EM1066_ses-EMU_task-resting_run-01_ieeg.EDF</td>\n",
       "    </tr>\n",
       "    \n",
       "    <tr>\n",
       "        <th>Duration</th>\n",
       "        <td>01:00:01 (HH:MM:SS)</td>\n",
       "    </tr>\n",
       "</table>"
      ],
      "text/plain": [
       "<RawEDF | sub-EM1066_ses-EMU_task-resting_run-01_ieeg.EDF, 276 x 3687040 (3600.6 s), ~213 kB, data not loaded>"
      ]
     },
     "execution_count": 46,
     "metadata": {},
     "output_type": "execute_result"
    }
   ],
   "source": [
    "subj1066_raw1 "
   ]
  },
  {
   "cell_type": "code",
   "execution_count": 9,
   "metadata": {},
   "outputs": [],
   "source": [
    "subj1066_ch_list = list(df_localization.query(\"Subject == 'EM1066'\")['label'])"
   ]
  },
  {
   "cell_type": "code",
   "execution_count": 10,
   "metadata": {},
   "outputs": [
    {
     "name": "stdout",
     "output_type": "stream",
     "text": [
      "Using pyopengl with version 3.1.7\n"
     ]
    },
    {
     "data": {
      "text/plain": [
       "<mne_qt_browser._pg_figure.MNEQtBrowser(0x2829d7550) at 0x297570140>"
      ]
     },
     "execution_count": 10,
     "metadata": {},
     "output_type": "execute_result"
    },
    {
     "name": "stderr",
     "output_type": "stream",
     "text": [
      "qt.pointer.dispatch: skipping QEventPoint(id=0 ts=0 pos=0,0 scn=261.996,309.08 gbl=261.996,309.08 Released ellipse=(1x1 ∡ 0) vel=0,0 press=-261.996,-309.08 last=-261.996,-309.08 Δ 261.996,309.08) : no target window\n",
      "qt.pointer.dispatch: skipping QEventPoint(id=1 ts=0 pos=0,0 scn=182.44,400.519 gbl=182.44,400.519 Released ellipse=(1x1 ∡ 0) vel=0,0 press=-182.44,-400.519 last=-182.44,-400.519 Δ 182.44,400.519) : no target window\n"
     ]
    }
   ],
   "source": [
    "subj1066_raw1.pick(subj1066_ch_list).plot()"
   ]
  },
  {
   "cell_type": "code",
   "execution_count": null,
   "metadata": {},
   "outputs": [],
   "source": []
  }
 ],
 "metadata": {
  "kernelspec": {
   "display_name": "Python 3",
   "language": "python",
   "name": "python3"
  },
  "language_info": {
   "codemirror_mode": {
    "name": "ipython",
    "version": 3
   },
   "file_extension": ".py",
   "mimetype": "text/x-python",
   "name": "python",
   "nbconvert_exporter": "python",
   "pygments_lexer": "ipython3",
   "version": "3.11.4"
  }
 },
 "nbformat": 4,
 "nbformat_minor": 4
}
