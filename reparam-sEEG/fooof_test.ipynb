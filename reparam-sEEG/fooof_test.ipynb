{
 "cells": [
  {
   "cell_type": "code",
   "execution_count": 6,
   "metadata": {},
   "outputs": [],
   "source": [
    "import os\n",
    "import glob\n",
    "import numpy as np\n",
    "import pandas as pd\n",
    "import copy\n",
    "import mne\n",
    "from fooof import FOOOF, FOOOFGroup\n",
    "import re"
   ]
  },
  {
   "cell_type": "code",
   "execution_count": 9,
   "metadata": {},
   "outputs": [],
   "source": [
    "df_localization = pd.read_csv('/Volumes/Nexus/Users/zouj/sEEG_data/electrode-localizations.tsv', delimiter='\\t')\\\n",
    "    [['Subject', 'label', 'electrode', 'is_thalamic', 'is_cortical']]\n",
    "spectra_file_names = glob.glob('/Volumes/Nexus/Users/zouj/sEEG_data/spectra/*')\n",
    "ch_dict = {}\n",
    "for spectra_file in spectra_file_names:\n",
    "    subject_pattern = r'EM\\d{4}'\n",
    "    subject = re.findall(subject_pattern, os.path.basename(spectra_file))[0]\n",
    "    if subject not in ch_dict:\n",
    "        spectra = mne.time_frequency.read_spectrum(spectra_file)\n",
    "        ch_dict[subject] = spectra.ch_names\n",
    "file_basenames = [os.path.basename(file_path) \n",
    "                  for file_path in glob.glob('/Volumes/Nexus/Users/zouj/sEEG_data/fooof_outputs/fooof*100*/fits/*')]"
   ]
  },
  {
   "cell_type": "code",
   "execution_count": 77,
   "metadata": {},
   "outputs": [
    {
     "data": {
      "text/plain": [
       "['/Volumes/Nexus/Users/zouj/sEEG_data/spectra/sub-EM1021_session-EMU_task-resting_run-01-spectrum.h5',\n",
       " '/Volumes/Nexus/Users/zouj/sEEG_data/spectra/sub-EM1021_session-EMU_task-resting_run-02-spectrum.h5',\n",
       " '/Volumes/Nexus/Users/zouj/sEEG_data/spectra/sub-EM1021_session-EMU_task-resting_run-03-spectrum.h5',\n",
       " '/Volumes/Nexus/Users/zouj/sEEG_data/spectra/sub-EM1023_ses-EMU_task-resting_run-02-spectrum.h5',\n",
       " '/Volumes/Nexus/Users/zouj/sEEG_data/spectra/sub-EM1023_ses-EMU_task-resting_run-01-spectrum.h5',\n",
       " '/Volumes/Nexus/Users/zouj/sEEG_data/spectra/sub-EM1029_ses-EMU_task-resting_run-01-spectrum.h5',\n",
       " '/Volumes/Nexus/Users/zouj/sEEG_data/spectra/EM1002_ses-EMU_task-resting_run-1_1-spectrum.h5',\n",
       " '/Volumes/Nexus/Users/zouj/sEEG_data/spectra/EM1002_ses-EMU_task-resting_run-1_2-spectrum.h5',\n",
       " '/Volumes/Nexus/Users/zouj/sEEG_data/spectra/EM1035_ses-EMU_task-resting_run-1-spectrum.h5',\n",
       " '/Volumes/Nexus/Users/zouj/sEEG_data/spectra/sub-EM1061_ses-EMU_task-resting_run-01_ieeg-spectrum.h5',\n",
       " '/Volumes/Nexus/Users/zouj/sEEG_data/spectra/sub-EM1063_ses-EMU_task-resting_run-01_ieeg-spectrum.h5',\n",
       " '/Volumes/Nexus/Users/zouj/sEEG_data/spectra/sub-EM1066_ses-EMU_task-resting_run-01_ieeg-spectrum.h5']"
      ]
     },
     "execution_count": 77,
     "metadata": {},
     "output_type": "execute_result"
    }
   ],
   "source": [
    "glob.glob('/Volumes/Nexus/Users/zouj/sEEG_data/spectra/*')"
   ]
  },
  {
   "cell_type": "markdown",
   "metadata": {},
   "source": [
    "# Regularization Weight"
   ]
  },
  {
   "cell_type": "code",
   "execution_count": 2,
   "metadata": {},
   "outputs": [],
   "source": [
    "spectra_file =  '/Volumes/Nexus/Users/zouj/sEEG_data/spectra/sub-EM1029_ses-EMU_task-resting_run-01-spectrum.h5'\n",
    "spectra =mne.time_frequency.read_spectrum(spectra_file)"
   ]
  },
  {
   "cell_type": "code",
   "execution_count": 3,
   "metadata": {},
   "outputs": [
    {
     "data": {
      "text/html": [
       "<table class=\"table table-hover table-striped table-sm table-responsive small\">\n",
       "    <tr>\n",
       "        <th>Data type</th>\n",
       "        <td>Power Spectrum</td>\n",
       "    </tr>\n",
       "    <tr>\n",
       "        <th rowspan=1>Units</th>\n",
       "        <td class=\"justify\">eeg: V²/Hz</td>\n",
       "    </tr>\n",
       "    <tr>\n",
       "        <th>Data source</th>\n",
       "        <td>Raw</td>\n",
       "    </tr><tr>\n",
       "        <th>Dims</th>\n",
       "        <td>channel, freq</td>\n",
       "    </tr>\n",
       "    <tr>\n",
       "        <th>Estimation method</th>\n",
       "        <td>welch</td>\n",
       "    </tr>\n",
       "    \n",
       "    <tr>\n",
       "        <th>Number of channels</th>\n",
       "        <td>8</td>\n",
       "    </tr>\n",
       "    <tr>\n",
       "        <th>Number of frequency bins</th>\n",
       "        <td>513</td>\n",
       "    </tr>\n",
       "    <tr>\n",
       "        <th>Frequency range</th>\n",
       "        <td>0.00 – 512.00 Hz</td>\n",
       "    </tr>\n",
       "</table>"
      ],
      "text/plain": [
       "<Power Spectrum (from Raw, welch method) | 8 channels × 513 freqs, 0.0-512.0 Hz>"
      ]
     },
     "execution_count": 3,
     "metadata": {},
     "output_type": "execute_result"
    }
   ],
   "source": [
    "spectra.pick(['LCM1', 'LCM2', 'LCM3', 'LCM4', 'LCM5', 'LCM6', 'LCM7', 'LCM8'])"
   ]
  },
  {
   "cell_type": "code",
   "execution_count": 4,
   "metadata": {},
   "outputs": [
    {
     "name": "stdout",
     "output_type": "stream",
     "text": [
      "Running FOOOFGroup across 8 power spectra.\n",
      "-----\n",
      "guess for fitting [[ 7.          0.29106329  1.6986436 ]\n",
      " [30.          0.19281717  2.5479654 ]]\n",
      "fitted gaussian_params [[ 7.5044919   0.32141404  1.14497305]\n",
      " [28.78471581  0.18632394  3.42411255]]\n",
      "-----\n",
      "guess for fitting [[ 7.          0.25818053  1.6986436 ]\n",
      " [30.          0.33261048  3.3972872 ]]\n",
      "fitted gaussian_params [[ 7.25113453  0.28751479  1.09030046]\n",
      " [29.69685716  0.30608591  3.53002637]]\n",
      "-----\n",
      "guess for fitting [[ 7.          0.16663059  1.6986436 ]\n",
      " [29.          0.44458153  4.246609  ]]\n",
      "fitted gaussian_params [[ 7.51561121  0.19121095  1.12137971]\n",
      " [29.74872962  0.47869413  4.28317046]]\n",
      "-----\n",
      "guess for fitting [[29.          0.68261994  4.246609  ]]\n",
      "fitted gaussian_params [[29.17814988  0.67885623  4.19473165]]\n",
      "-----\n",
      "guess for fitting [[ 7.          0.34173824  2.5479654 ]\n",
      " [30.          0.27257945  3.3972872 ]]\n",
      "fitted gaussian_params [[ 6.55214964  0.4561262   1.        ]\n",
      " [29.64640527  0.26340413  2.9313362 ]]\n",
      "-----\n",
      "guess for fitting [[ 7.          0.46729302  2.5479654 ]\n",
      " [27.          0.22551952  2.5479654 ]]\n",
      "fitted gaussian_params [[ 6.88878357  0.57342245  1.06230124]\n",
      " [28.21393846  0.23355225  2.71227494]]\n",
      "-----\n",
      "guess for fitting [[ 7.          0.30281047  1.6986436 ]\n",
      " [27.          0.30738472  2.5479654 ]\n",
      " [32.          0.17628013  2.5479654 ]]\n",
      "fitted gaussian_params [[ 7.58066596  0.33707083  1.15858497]\n",
      " [26.89381772  0.27078769  2.39817678]\n",
      " [32.2515443   0.19449547  2.8322616 ]]\n",
      "-----\n",
      "guess for fitting [[ 7.          0.18624662  1.        ]\n",
      " [27.          0.32474688  2.5479654 ]\n",
      " [32.          0.23383245  2.5479654 ]]\n",
      "fitted gaussian_params [[ 8.07816331  0.20183626  1.21446415]\n",
      " [26.61608808  0.25043864  3.26195382]\n",
      " [32.68028001  0.21812927  3.7614289 ]]\n"
     ]
    }
   ],
   "source": [
    "fg4 = FOOOFGroup(peak_width_limits=[2,25],\n",
    "                  max_n_peaks = 6,\n",
    "                  min_peak_height = 0.15,\n",
    "                  peak_threshold = 2,\n",
    "                  bw_std_edge = 1, \n",
    "                  aperiodic_mode = 'lorentzian',\n",
    "                  regularization_weight = 10**4\n",
    "                  )\n",
    "    \n",
    "fg4.fit(spectra.freqs, spectra.get_data(), freq_range = [1, 150])"
   ]
  },
  {
   "cell_type": "code",
   "execution_count": 5,
   "metadata": {},
   "outputs": [
    {
     "name": "stderr",
     "output_type": "stream",
     "text": [
      "/Users/jasminezou/Projects/fooof/fooof/plts/style.py:172: UserWarning: This figure includes Axes that are not compatible with tight_layout, so results might be incorrect.\n",
      "  plt.tight_layout()\n",
      "/Users/jasminezou/Projects/fooof/fooof/plts/style.py:172: UserWarning: This figure includes Axes that are not compatible with tight_layout, so results might be incorrect.\n",
      "  plt.tight_layout()\n",
      "/Users/jasminezou/Projects/fooof/fooof/plts/style.py:172: UserWarning: The figure layout has changed to tight\n",
      "  plt.tight_layout()\n",
      "/Users/jasminezou/Projects/fooof/fooof/plts/style.py:172: UserWarning: This figure includes Axes that are not compatible with tight_layout, so results might be incorrect.\n",
      "  plt.tight_layout()\n",
      "/Users/jasminezou/Projects/fooof/fooof/plts/style.py:172: UserWarning: The figure layout has changed to tight\n",
      "  plt.tight_layout()\n",
      "/Users/jasminezou/Projects/fooof/fooof/plts/style.py:172: UserWarning: This figure includes Axes that are not compatible with tight_layout, so results might be incorrect.\n",
      "  plt.tight_layout()\n",
      "/Users/jasminezou/Projects/fooof/fooof/plts/style.py:172: UserWarning: The figure layout has changed to tight\n",
      "  plt.tight_layout()\n",
      "/Users/jasminezou/Projects/fooof/fooof/plts/style.py:172: UserWarning: This figure includes Axes that are not compatible with tight_layout, so results might be incorrect.\n",
      "  plt.tight_layout()\n",
      "/Users/jasminezou/Projects/fooof/fooof/plts/style.py:172: UserWarning: This figure includes Axes that are not compatible with tight_layout, so results might be incorrect.\n",
      "  plt.tight_layout()\n",
      "/Users/jasminezou/Projects/fooof/fooof/plts/style.py:172: UserWarning: The figure layout has changed to tight\n",
      "  plt.tight_layout()\n",
      "/Users/jasminezou/Projects/fooof/fooof/plts/style.py:172: UserWarning: This figure includes Axes that are not compatible with tight_layout, so results might be incorrect.\n",
      "  plt.tight_layout()\n",
      "/Users/jasminezou/Projects/fooof/fooof/plts/style.py:172: UserWarning: The figure layout has changed to tight\n",
      "  plt.tight_layout()\n",
      "/Users/jasminezou/Projects/fooof/fooof/plts/style.py:172: UserWarning: This figure includes Axes that are not compatible with tight_layout, so results might be incorrect.\n",
      "  plt.tight_layout()\n",
      "/Users/jasminezou/Projects/fooof/fooof/plts/style.py:172: UserWarning: The figure layout has changed to tight\n",
      "  plt.tight_layout()\n",
      "/Users/jasminezou/Projects/fooof/fooof/plts/style.py:172: UserWarning: This figure includes Axes that are not compatible with tight_layout, so results might be incorrect.\n",
      "  plt.tight_layout()\n",
      "/Users/jasminezou/Projects/fooof/fooof/plts/style.py:172: UserWarning: This figure includes Axes that are not compatible with tight_layout, so results might be incorrect.\n",
      "  plt.tight_layout()\n",
      "/Users/jasminezou/Projects/fooof/fooof/plts/style.py:172: UserWarning: The figure layout has changed to tight\n",
      "  plt.tight_layout()\n",
      "/Users/jasminezou/Projects/fooof/fooof/plts/style.py:172: UserWarning: This figure includes Axes that are not compatible with tight_layout, so results might be incorrect.\n",
      "  plt.tight_layout()\n",
      "/Users/jasminezou/Projects/fooof/fooof/plts/style.py:172: UserWarning: The figure layout has changed to tight\n",
      "  plt.tight_layout()\n",
      "/Users/jasminezou/Projects/fooof/fooof/plts/style.py:172: UserWarning: This figure includes Axes that are not compatible with tight_layout, so results might be incorrect.\n",
      "  plt.tight_layout()\n",
      "/Users/jasminezou/Projects/fooof/fooof/plts/style.py:172: UserWarning: The figure layout has changed to tight\n",
      "  plt.tight_layout()\n",
      "/Users/jasminezou/Projects/fooof/fooof/plts/style.py:172: UserWarning: This figure includes Axes that are not compatible with tight_layout, so results might be incorrect.\n",
      "  plt.tight_layout()\n",
      "/Users/jasminezou/Projects/fooof/fooof/plts/style.py:172: UserWarning: This figure includes Axes that are not compatible with tight_layout, so results might be incorrect.\n",
      "  plt.tight_layout()\n",
      "/Users/jasminezou/Projects/fooof/fooof/plts/style.py:172: UserWarning: The figure layout has changed to tight\n",
      "  plt.tight_layout()\n",
      "/Users/jasminezou/Projects/fooof/fooof/plts/style.py:172: UserWarning: This figure includes Axes that are not compatible with tight_layout, so results might be incorrect.\n",
      "  plt.tight_layout()\n",
      "/Users/jasminezou/Projects/fooof/fooof/plts/style.py:172: UserWarning: The figure layout has changed to tight\n",
      "  plt.tight_layout()\n",
      "/Users/jasminezou/Projects/fooof/fooof/plts/style.py:172: UserWarning: This figure includes Axes that are not compatible with tight_layout, so results might be incorrect.\n",
      "  plt.tight_layout()\n",
      "/Users/jasminezou/Projects/fooof/fooof/plts/style.py:172: UserWarning: The figure layout has changed to tight\n",
      "  plt.tight_layout()\n"
     ]
    }
   ],
   "source": [
    "fg4.get_fooof(2).save_report('/Volumes/Nexus/Users/zouj/sEEG_data/LCM3-r4.png', plt_log = True)\n",
    "fg4.get_fooof(3).save_report('/Volumes/Nexus/Users/zouj/sEEG_data/LCM4-r4.png', plt_log = True)\n",
    "fg4.get_fooof(4).save_report('/Volumes/Nexus/Users/zouj/sEEG_data/LCM5-r4.png', plt_log = True)\n",
    "fg4.get_fooof(5).save_report('/Volumes/Nexus/Users/zouj/sEEG_data/LCM6-r4.png', plt_log = True)"
   ]
  },
  {
   "cell_type": "markdown",
   "metadata": {},
   "source": [
    "## Data Wrangling - PW25"
   ]
  },
  {
   "cell_type": "code",
   "execution_count": 7,
   "metadata": {},
   "outputs": [],
   "source": [
    "dir_list = ['/Volumes/Nexus/Users/zouj/sEEG_data/fooof_outputs/fooof_1-100hz_r4_bw1_pw25/fits',\n",
    "            '/Volumes/Nexus/Users/zouj/sEEG_data/fooof_outputs/fooof_1-150hz_r4_bw1_pw25/fits',\n",
    "            '/Volumes/Nexus/Users/zouj/sEEG_data/fooof_outputs/fooof_1-200hz_r4_bw1_pw25/fits']\n",
    "results_df_list = []"
   ]
  },
  {
   "cell_type": "code",
   "execution_count": 10,
   "metadata": {},
   "outputs": [],
   "source": [
    "subject_col = []\n",
    "ch_col = []\n",
    "dir_col = []\n",
    "run_col = []\n",
    "for dir in dir_list:\n",
    "    dir_name = os.path.basename(os.path.dirname(dir))\n",
    "    for file in file_basenames:\n",
    "        subject_pattern = r'EM\\d{4}'\n",
    "        subject = re.findall(subject_pattern, file)[0]\n",
    "\n",
    "        run_pattern = r'run-\\d[^a-zA-Z]*'\n",
    "        run = re.findall(run_pattern, file)[0][:-1]\n",
    "\n",
    "        fg = FOOOFGroup()\n",
    "        fg.load(file, dir)\n",
    "\n",
    "        for i in range(len(fg)):\n",
    "            fooof = fg[i]#.get_fooof(i)\n",
    "            gauss_params = fooof.gaussian_params\n",
    "            CF, PW, BW = gauss_params[:, 0], gauss_params[:, 1], gauss_params[:, 2]\n",
    "            if not np.all(CF - 1 > BW):\n",
    "                print(dir, subject, run, ch_dict[subject][i], CF)\n",
    "                subject_col.append(subject)\n",
    "                ch_col.append(ch_dict[subject][i])\n",
    "                dir_col.append(dir_name)\n",
    "                run_col.append(run)"
   ]
  },
  {
   "cell_type": "code",
   "execution_count": 12,
   "metadata": {},
   "outputs": [],
   "source": [
    "poor_peak_fit = pd.DataFrame(np.array([dir_col, run_col, subject_col, ch_col]).T, columns = ['dir', 'run', 'Subject', 'ch'])\n",
    "poor_peak_fit.to_csv('/Volumes/Nexus/Users/zouj/sEEG_data/fooof_outputs/lorentzian-poor_peak_fit-pw25.csv')"
   ]
  },
  {
   "cell_type": "markdown",
   "metadata": {},
   "source": [
    "## Data Wrangling - PW50"
   ]
  },
  {
   "cell_type": "code",
   "execution_count": 36,
   "metadata": {},
   "outputs": [
    {
     "data": {
      "text/plain": [
       "18"
      ]
     },
     "execution_count": 36,
     "metadata": {},
     "output_type": "execute_result"
    }
   ],
   "source": [
    "dir_list = ['/Volumes/Nexus/Users/zouj/sEEG_data/fooof_outputs/fooof_1-100hz_r4_bw1/fits',\n",
    "            '/Volumes/Nexus/Users/zouj/sEEG_data/fooof_outputs/fooof_1-150hz_r4_bw1/fits',\n",
    "            '/Volumes/Nexus/Users/zouj/sEEG_data/fooof_outputs/fooof_1-200hz_r4_bw1/fits']\n",
    "results_df_list = []"
   ]
  },
  {
   "cell_type": "code",
   "execution_count": 69,
   "metadata": {},
   "outputs": [
    {
     "name": "stdout",
     "output_type": "stream",
     "text": [
      "/Volumes/Nexus/Users/zouj/sEEG_data/fooof_outputs/fooof_1-100hz_r4_bw1/fits EM1023 run-02 LPI8 [ 8.9040692  60.02824037]\n",
      "/Volumes/Nexus/Users/zouj/sEEG_data/fooof_outputs/fooof_1-100hz_r4_bw1/fits EM1023 run-02 LPI10 [15.24941738]\n",
      "/Volumes/Nexus/Users/zouj/sEEG_data/fooof_outputs/fooof_1-100hz_r4_bw1/fits EM1023 run-02 LPI12 [3.8081384]\n",
      "/Volumes/Nexus/Users/zouj/sEEG_data/fooof_outputs/fooof_1-100hz_r4_bw1/fits EM1023 run-02 RPI3 [ 7.61028229  8.9040692  60.66390598]\n",
      "/Volumes/Nexus/Users/zouj/sEEG_data/fooof_outputs/fooof_1-100hz_r4_bw1/fits EM1023 run-02 RPI5 [ 9.86174792 68.739827  ]\n",
      "/Volumes/Nexus/Users/zouj/sEEG_data/fooof_outputs/fooof_1-100hz_r4_bw1/fits EM1023 run-01 LPI12 [1.260173]\n",
      "/Volumes/Nexus/Users/zouj/sEEG_data/fooof_outputs/fooof_1-100hz_r4_bw1/fits EM1023 run-01 RCM8 [ 2.         21.92770015]\n",
      "/Volumes/Nexus/Users/zouj/sEEG_data/fooof_outputs/fooof_1-100hz_r4_bw1/fits EM1023 run-01 RPI5 [ 6.3561038  17.60791738 57.52768022]\n",
      "/Volumes/Nexus/Users/zouj/sEEG_data/fooof_outputs/fooof_1-100hz_r4_bw1/fits EM1023 run-01 RPI11 [11.9040692  15.49016146]\n",
      "/Volumes/Nexus/Users/zouj/sEEG_data/fooof_outputs/fooof_1-100hz_r4_bw1/fits EM1023 run-01 RPI16 [7.3561038]\n",
      "/Volumes/Nexus/Users/zouj/sEEG_data/fooof_outputs/fooof_1-100hz_r4_bw1/fits EM1029 run-01 LCM5 [ 1.9040692  29.87280186]\n",
      "/Volumes/Nexus/Users/zouj/sEEG_data/fooof_outputs/fooof_1-100hz_r4_bw1/fits EM1029 run-01 LP3 [ 1.9040692  29.90001041]\n",
      "/Volumes/Nexus/Users/zouj/sEEG_data/fooof_outputs/fooof_1-100hz_r4_bw1/fits EM1029 run-01 LP7 [ 1.9040692  34.86126551]\n",
      "/Volumes/Nexus/Users/zouj/sEEG_data/fooof_outputs/fooof_1-100hz_r4_bw1/fits EM1029 run-01 LP11 [ 1.         32.08058579]\n",
      "/Volumes/Nexus/Users/zouj/sEEG_data/fooof_outputs/fooof_1-100hz_r4_bw1/fits EM1029 run-01 LP12 [ 1.         28.18063308 44.76921559]\n",
      "/Volumes/Nexus/Users/zouj/sEEG_data/fooof_outputs/fooof_1-100hz_r4_bw1/fits EM1029 run-01 LP14 [ 1.9040692  28.00782474 46.8917558 ]\n",
      "/Volumes/Nexus/Users/zouj/sEEG_data/fooof_outputs/fooof_1-100hz_r4_bw1/fits EM1029 run-01 LP15 [ 1.         28.59614965]\n",
      "/Volumes/Nexus/Users/zouj/sEEG_data/fooof_outputs/fooof_1-100hz_r4_bw1/fits EM1029 run-01 RCM7 [12.0959308]\n",
      "/Volumes/Nexus/Users/zouj/sEEG_data/fooof_outputs/fooof_1-100hz_r4_bw1/fits EM1029 run-01 RPS7 [ 1.         29.36993676 35.29582449]\n",
      "/Volumes/Nexus/Users/zouj/sEEG_data/fooof_outputs/fooof_1-100hz_r4_bw1/fits EM1029 run-01 RPS12 [ 1.9040692  32.08181035 54.65807451]\n",
      "/Volumes/Nexus/Users/zouj/sEEG_data/fooof_outputs/fooof_1-100hz_r4_bw1/fits EM1061 run-01 RFIa6 [ 4.14656571 32.98181239 45.88997073]\n",
      "/Volumes/Nexus/Users/zouj/sEEG_data/fooof_outputs/fooof_1-100hz_r4_bw1/fits EM1061 run-01 RFM8 [15.0959308]\n",
      "/Volumes/Nexus/Users/zouj/sEEG_data/fooof_outputs/fooof_1-100hz_r4_bw1/fits EM1063 run-01 LPIa8 [10.21424629 64.56561783]\n",
      "/Volumes/Nexus/Users/zouj/sEEG_data/fooof_outputs/fooof_1-100hz_r4_bw1/fits EM1066 run-01 RPI4 [ 2.         21.2037935  39.68435646 79.52993408]\n",
      "/Volumes/Nexus/Users/zouj/sEEG_data/fooof_outputs/fooof_1-150hz_r4_bw1/fits EM1021 run-02 RCM4 [ 7.64192054 27.93621244]\n",
      "/Volumes/Nexus/Users/zouj/sEEG_data/fooof_outputs/fooof_1-150hz_r4_bw1/fits EM1021 run-02 RCM11 [ 10.71252694 120.87032196 126.73796145 142.4102175 ]\n",
      "/Volumes/Nexus/Users/zouj/sEEG_data/fooof_outputs/fooof_1-150hz_r4_bw1/fits EM1023 run-02 LPI1 [ 1.         47.25918446 77.13307238]\n",
      "/Volumes/Nexus/Users/zouj/sEEG_data/fooof_outputs/fooof_1-150hz_r4_bw1/fits EM1023 run-02 LPI12 [5.91650232]\n",
      "/Volumes/Nexus/Users/zouj/sEEG_data/fooof_outputs/fooof_1-150hz_r4_bw1/fits EM1023 run-02 RPI3 [6.3561038  7.64530501]\n",
      "/Volumes/Nexus/Users/zouj/sEEG_data/fooof_outputs/fooof_1-150hz_r4_bw1/fits EM1023 run-01 LPI1 [ 1.9040692  48.44999307 75.8869699  99.17826091]\n",
      "/Volumes/Nexus/Users/zouj/sEEG_data/fooof_outputs/fooof_1-150hz_r4_bw1/fits EM1023 run-01 LPI12 [6.6748989]\n",
      "/Volumes/Nexus/Users/zouj/sEEG_data/fooof_outputs/fooof_1-150hz_r4_bw1/fits EM1023 run-01 RPI1 [ 1.9040692  56.76443594 67.35523894]\n",
      "/Volumes/Nexus/Users/zouj/sEEG_data/fooof_outputs/fooof_1-150hz_r4_bw1/fits EM1023 run-01 RPI6 [ 6.3561038  17.53056802 56.54540563 63.89146571]\n",
      "/Volumes/Nexus/Users/zouj/sEEG_data/fooof_outputs/fooof_1-150hz_r4_bw1/fits EM1023 run-01 RPI16 [7.3561038]\n",
      "/Volumes/Nexus/Users/zouj/sEEG_data/fooof_outputs/fooof_1-150hz_r4_bw1/fits EM1029 run-01 LCM3 [ 1.9040692  29.75270045]\n",
      "/Volumes/Nexus/Users/zouj/sEEG_data/fooof_outputs/fooof_1-150hz_r4_bw1/fits EM1029 run-01 LCM5 [ 1.         29.66322633]\n",
      "/Volumes/Nexus/Users/zouj/sEEG_data/fooof_outputs/fooof_1-150hz_r4_bw1/fits EM1029 run-01 LP7 [ 1.9040692  35.24972557]\n",
      "/Volumes/Nexus/Users/zouj/sEEG_data/fooof_outputs/fooof_1-150hz_r4_bw1/fits EM1029 run-01 LP11 [ 1.         32.18347153]\n",
      "/Volumes/Nexus/Users/zouj/sEEG_data/fooof_outputs/fooof_1-150hz_r4_bw1/fits EM1029 run-01 LP12 [ 1.         27.12521536 45.86778292]\n",
      "/Volumes/Nexus/Users/zouj/sEEG_data/fooof_outputs/fooof_1-150hz_r4_bw1/fits EM1029 run-01 LP14 [ 1.9040692  28.47916359]\n",
      "/Volumes/Nexus/Users/zouj/sEEG_data/fooof_outputs/fooof_1-150hz_r4_bw1/fits EM1029 run-01 LP15 [ 1.         26.62864909 32.40052515]\n",
      "/Volumes/Nexus/Users/zouj/sEEG_data/fooof_outputs/fooof_1-150hz_r4_bw1/fits EM1029 run-01 RCM7 [10.6103225]\n",
      "/Volumes/Nexus/Users/zouj/sEEG_data/fooof_outputs/fooof_1-150hz_r4_bw1/fits EM1029 run-01 RPS7 [ 1.         28.39750545 34.93870952]\n",
      "/Volumes/Nexus/Users/zouj/sEEG_data/fooof_outputs/fooof_1-150hz_r4_bw1/fits EM1029 run-01 RPS12 [ 1.9040692  32.10073142 55.047221  ]\n",
      "/Volumes/Nexus/Users/zouj/sEEG_data/fooof_outputs/fooof_1-150hz_r4_bw1/fits EM1002 run-1_1 LCM14 [16.9040692  59.9709911  77.58907252 81.25890225 87.91620725]\n",
      "/Volumes/Nexus/Users/zouj/sEEG_data/fooof_outputs/fooof_1-150hz_r4_bw1/fits EM1035 run-1 LCM6 [5.881174]\n",
      "/Volumes/Nexus/Users/zouj/sEEG_data/fooof_outputs/fooof_1-150hz_r4_bw1/fits EM1061 run-01 RFIa1 [ 5.59841065 32.86542131]\n",
      "/Volumes/Nexus/Users/zouj/sEEG_data/fooof_outputs/fooof_1-150hz_r4_bw1/fits EM1061 run-01 RFIa6 [ 3.36770734 32.98437028 45.74486963]\n",
      "/Volumes/Nexus/Users/zouj/sEEG_data/fooof_outputs/fooof_1-150hz_r4_bw1/fits EM1063 run-01 LPIa8 [ 8.78173599 65.0959308 ]\n",
      "/Volumes/Nexus/Users/zouj/sEEG_data/fooof_outputs/fooof_1-150hz_r4_bw1/fits EM1063 run-01 LPIb6 [2.]\n",
      "/Volumes/Nexus/Users/zouj/sEEG_data/fooof_outputs/fooof_1-150hz_r4_bw1/fits EM1066 run-01 LF1 [ 2.714853   21.22899411 28.5477786  38.874473  ]\n",
      "/Volumes/Nexus/Users/zouj/sEEG_data/fooof_outputs/fooof_1-150hz_r4_bw1/fits EM1066 run-01 LF7 [ 1.         20.95050988 30.04136008 39.68703978]\n",
      "/Volumes/Nexus/Users/zouj/sEEG_data/fooof_outputs/fooof_1-150hz_r4_bw1/fits EM1066 run-01 LPI1 [ 3.50166184 44.65030269 77.19379957]\n",
      "/Volumes/Nexus/Users/zouj/sEEG_data/fooof_outputs/fooof_1-150hz_r4_bw1/fits EM1066 run-01 LPI4 [ 2.87185648 36.650402   45.29836642]\n",
      "/Volumes/Nexus/Users/zouj/sEEG_data/fooof_outputs/fooof_1-200hz_r4_bw1/fits EM1021 run-01 LCM5 [  2.26839828  24.36729769 151.96108927]\n",
      "/Volumes/Nexus/Users/zouj/sEEG_data/fooof_outputs/fooof_1-200hz_r4_bw1/fits EM1021 run-01 LCM10 [ 16.84703661  23.20999713 199.91437181]\n",
      "/Volumes/Nexus/Users/zouj/sEEG_data/fooof_outputs/fooof_1-200hz_r4_bw1/fits EM1021 run-01 RCM2 [  1.00010208   4.26095574  35.6438962  140.8081384  170.1918616 ]\n",
      "/Volumes/Nexus/Users/zouj/sEEG_data/fooof_outputs/fooof_1-200hz_r4_bw1/fits EM1021 run-01 RCM4 [  4.34566885   5.57640902  14.0626465   25.72798968 179.89511952]\n",
      "/Volumes/Nexus/Users/zouj/sEEG_data/fooof_outputs/fooof_1-200hz_r4_bw1/fits EM1021 run-02 RCM1 [  6.24862197  17.43812641 143.        ]\n",
      "/Volumes/Nexus/Users/zouj/sEEG_data/fooof_outputs/fooof_1-200hz_r4_bw1/fits EM1021 run-02 RCM2 [  2.29430443  14.1097606  140.84129561 153.62896486 169.83051091]\n",
      "/Volumes/Nexus/Users/zouj/sEEG_data/fooof_outputs/fooof_1-200hz_r4_bw1/fits EM1021 run-02 RCM4 [  5.61663779  30.60520049  31.23530217 146.0959308 ]\n",
      "/Volumes/Nexus/Users/zouj/sEEG_data/fooof_outputs/fooof_1-200hz_r4_bw1/fits EM1021 run-02 RCM5 [  6.8081384   31.07421645 150.1918616 ]\n",
      "/Volumes/Nexus/Users/zouj/sEEG_data/fooof_outputs/fooof_1-200hz_r4_bw1/fits EM1021 run-02 RCM11 [  8.97783295 143.08578746 161.85179242 186.88508406 196.60642102]\n",
      "/Volumes/Nexus/Users/zouj/sEEG_data/fooof_outputs/fooof_1-200hz_r4_bw1/fits EM1023 run-02 LCM5 [ 1.         22.50342854 60.01339225]\n",
      "/Volumes/Nexus/Users/zouj/sEEG_data/fooof_outputs/fooof_1-200hz_r4_bw1/fits EM1023 run-02 LPI1 [ 1.         48.89529533 81.03816818]\n",
      "/Volumes/Nexus/Users/zouj/sEEG_data/fooof_outputs/fooof_1-200hz_r4_bw1/fits EM1023 run-02 LPI12 [9.5149493]\n",
      "/Volumes/Nexus/Users/zouj/sEEG_data/fooof_outputs/fooof_1-200hz_r4_bw1/fits EM1023 run-02 RPI1 [ 1.9040692  58.40258871 83.71265592]\n",
      "/Volumes/Nexus/Users/zouj/sEEG_data/fooof_outputs/fooof_1-200hz_r4_bw1/fits EM1023 run-02 RPI3 [ 7.65001105 12.71635114 59.64843169]\n",
      "/Volumes/Nexus/Users/zouj/sEEG_data/fooof_outputs/fooof_1-200hz_r4_bw1/fits EM1023 run-02 RPI10 [ 9.58909325  9.8081384  15.12188905]\n",
      "/Volumes/Nexus/Users/zouj/sEEG_data/fooof_outputs/fooof_1-200hz_r4_bw1/fits EM1023 run-01 LCM6 [ 2.58956174 10.05008279 17.93144664 24.6851599 ]\n",
      "/Volumes/Nexus/Users/zouj/sEEG_data/fooof_outputs/fooof_1-200hz_r4_bw1/fits EM1023 run-01 LPI1 [ 1.         48.26641442 80.56214135]\n",
      "/Volumes/Nexus/Users/zouj/sEEG_data/fooof_outputs/fooof_1-200hz_r4_bw1/fits EM1023 run-01 LPI3 [  3.9040692   62.41304497 100.62953207]\n",
      "/Volumes/Nexus/Users/zouj/sEEG_data/fooof_outputs/fooof_1-200hz_r4_bw1/fits EM1023 run-01 LPI12 [9.76172748]\n",
      "/Volumes/Nexus/Users/zouj/sEEG_data/fooof_outputs/fooof_1-200hz_r4_bw1/fits EM1023 run-01 RPI1 [ 1.9040692  56.87115272 69.52895569]\n",
      "/Volumes/Nexus/Users/zouj/sEEG_data/fooof_outputs/fooof_1-200hz_r4_bw1/fits EM1023 run-01 RPI3 [7.90423847 8.9040692 ]\n",
      "/Volumes/Nexus/Users/zouj/sEEG_data/fooof_outputs/fooof_1-200hz_r4_bw1/fits EM1023 run-01 RPI6 [  6.3561038   17.94893431  57.118972   195.44001266]\n",
      "/Volumes/Nexus/Users/zouj/sEEG_data/fooof_outputs/fooof_1-200hz_r4_bw1/fits EM1023 run-01 RPI11 [11.3561038  15.85829018]\n",
      "/Volumes/Nexus/Users/zouj/sEEG_data/fooof_outputs/fooof_1-200hz_r4_bw1/fits EM1023 run-01 RPI16 [7.3561038]\n",
      "/Volumes/Nexus/Users/zouj/sEEG_data/fooof_outputs/fooof_1-200hz_r4_bw1/fits EM1029 run-01 LCM3 [ 1.9040692  29.61236613]\n",
      "/Volumes/Nexus/Users/zouj/sEEG_data/fooof_outputs/fooof_1-200hz_r4_bw1/fits EM1029 run-01 LCM5 [ 1.         29.51310664]\n",
      "/Volumes/Nexus/Users/zouj/sEEG_data/fooof_outputs/fooof_1-200hz_r4_bw1/fits EM1029 run-01 LP11 [ 1.         33.19131708]\n",
      "/Volumes/Nexus/Users/zouj/sEEG_data/fooof_outputs/fooof_1-200hz_r4_bw1/fits EM1029 run-01 LP14 [ 1.9040692  28.19472555]\n",
      "/Volumes/Nexus/Users/zouj/sEEG_data/fooof_outputs/fooof_1-200hz_r4_bw1/fits EM1029 run-01 LP15 [ 1.07327631 26.38012432 32.8530756 ]\n",
      "/Volumes/Nexus/Users/zouj/sEEG_data/fooof_outputs/fooof_1-200hz_r4_bw1/fits EM1029 run-01 RPS7 [ 1.04883644 28.10237663 34.96515141]\n",
      "/Volumes/Nexus/Users/zouj/sEEG_data/fooof_outputs/fooof_1-200hz_r4_bw1/fits EM1029 run-01 RPS9 [ 1.         33.32407172]\n",
      "/Volumes/Nexus/Users/zouj/sEEG_data/fooof_outputs/fooof_1-200hz_r4_bw1/fits EM1029 run-01 RPS12 [ 1.9040692  32.05433574 54.83926394]\n",
      "/Volumes/Nexus/Users/zouj/sEEG_data/fooof_outputs/fooof_1-200hz_r4_bw1/fits EM1002 run-1_1 LCM2 [ 11.85678961  22.56241335  60.0034092  179.97204671]\n",
      "/Volumes/Nexus/Users/zouj/sEEG_data/fooof_outputs/fooof_1-200hz_r4_bw1/fits EM1002 run-1_1 LCM4 [  9.64841133  24.35060984  59.99784419 179.97630922]\n",
      "/Volumes/Nexus/Users/zouj/sEEG_data/fooof_outputs/fooof_1-200hz_r4_bw1/fits EM1002 run-1_1 RCM12 [ 17.3022627   19.9040692   38.6438962   59.99700175 185.0959308 ]\n",
      "/Volumes/Nexus/Users/zouj/sEEG_data/fooof_outputs/fooof_1-200hz_r4_bw1/fits EM1035 run-1 LCM6 [5.18405926]\n",
      "/Volumes/Nexus/Users/zouj/sEEG_data/fooof_outputs/fooof_1-200hz_r4_bw1/fits EM1035 run-1 RCM1 [  7.00465105  13.17639138  14.02941143 181.56441045]\n",
      "/Volumes/Nexus/Users/zouj/sEEG_data/fooof_outputs/fooof_1-200hz_r4_bw1/fits EM1035 run-1 RCM5 [  8.78910139  11.64644124 174.06062596]\n",
      "/Volumes/Nexus/Users/zouj/sEEG_data/fooof_outputs/fooof_1-200hz_r4_bw1/fits EM1035 run-1 RCM6 [ 11.5183714   11.65677893 167.01981575]\n",
      "/Volumes/Nexus/Users/zouj/sEEG_data/fooof_outputs/fooof_1-200hz_r4_bw1/fits EM1061 run-01 LFM1 [  4.          65.03380712 101.37764505 179.95909406]\n",
      "/Volumes/Nexus/Users/zouj/sEEG_data/fooof_outputs/fooof_1-200hz_r4_bw1/fits EM1066 run-01 LPI1 [  3.50978799  44.66950535  77.24846107 180.09004518]\n",
      "/Volumes/Nexus/Users/zouj/sEEG_data/fooof_outputs/fooof_1-200hz_r4_bw1/fits EM1066 run-01 LPI4 [  2.87136209  38.06205672  43.64538725 185.0959308 ]\n",
      "/Volumes/Nexus/Users/zouj/sEEG_data/fooof_outputs/fooof_1-200hz_r4_bw1/fits EM1066 run-01 RPI4 [ 2.         21.25987522 40.04558905 78.76035172]\n",
      "/Volumes/Nexus/Users/zouj/sEEG_data/fooof_outputs/fooof_1-200hz_r4_bw1/fits EM1066 run-01 RPI5 [ 20.62910628  41.407874    78.88534408 181.30752525]\n"
     ]
    }
   ],
   "source": [
    "subject_col = []\n",
    "ch_col = []\n",
    "dir_col = []\n",
    "run_col = []\n",
    "for dir in dir_list:\n",
    "    dir_name = os.path.basename(os.path.dirname(dir))\n",
    "    for file in file_basenames:\n",
    "        subject_pattern = r'EM\\d{4}'\n",
    "        subject = re.findall(subject_pattern, file)[0]\n",
    "\n",
    "        run_pattern = r'run-\\d[^a-zA-Z]*'\n",
    "        run = re.findall(run_pattern, file)[0][:-1]\n",
    "\n",
    "        fg = FOOOFGroup()\n",
    "        fg.load(file, dir)\n",
    "\n",
    "        for i in range(len(fg)):\n",
    "            fooof = fg[i]#.get_fooof(i)\n",
    "            gauss_params = fooof.gaussian_params\n",
    "            CF, PW, BW = gauss_params[:, 0], gauss_params[:, 1], gauss_params[:, 2]\n",
    "            if not np.all(CF - 1 > BW):\n",
    "                print(dir, subject, run, ch_dict[subject][i], CF)\n",
    "                subject_col.append(subject)\n",
    "                ch_col.append(ch_dict[subject][i])\n",
    "                dir_col.append(dir_name)\n",
    "                run_col.append(run)"
   ]
  },
  {
   "cell_type": "code",
   "execution_count": 71,
   "metadata": {},
   "outputs": [],
   "source": [
    "poor_peak_fit = pd.DataFrame(np.array([dir_col, run_col, subject_col, ch_col]).T, columns = ['dir', 'run', 'Subject', 'ch'])"
   ]
  },
  {
   "cell_type": "code",
   "execution_count": 72,
   "metadata": {},
   "outputs": [],
   "source": [
    "poor_peak_fit.to_csv('/Volumes/Nexus/Users/zouj/sEEG_data/fooof_outputs/poor_peak_fit_pw50.csv')"
   ]
  },
  {
   "cell_type": "code",
   "execution_count": 32,
   "metadata": {},
   "outputs": [
    {
     "name": "stdout",
     "output_type": "stream",
     "text": [
      "[ True]\n",
      "[ True]\n",
      "[ True]\n",
      "[ True  True]\n",
      "[ True  True]\n",
      "[ True  True  True]\n",
      "[ True  True]\n",
      "[ True  True]\n",
      "[ True  True  True]\n",
      "[ True]\n",
      "[ True  True  True]\n",
      "[ True  True  True  True]\n",
      "[ True  True  True]\n",
      "[ True]\n",
      "[ True  True  True]\n",
      "[ True]\n",
      "[ True  True  True]\n",
      "[ True  True  True  True  True  True]\n"
     ]
    }
   ],
   "source": [
    "for fooof in fg.group_results:\n",
    "    gauss_params = fooof.gaussian_params\n",
    "    CF, PW, BW = gauss_params[:, 0], gauss_params[:, 1], gauss_params[:, 2]\n",
    "    print(CF - 1 >BW)"
   ]
  }
 ],
 "metadata": {
  "kernelspec": {
   "display_name": "Python 3",
   "language": "python",
   "name": "python3"
  },
  "language_info": {
   "codemirror_mode": {
    "name": "ipython",
    "version": 3
   },
   "file_extension": ".py",
   "mimetype": "text/x-python",
   "name": "python",
   "nbconvert_exporter": "python",
   "pygments_lexer": "ipython3",
   "version": "3.11.4"
  }
 },
 "nbformat": 4,
 "nbformat_minor": 4
}
