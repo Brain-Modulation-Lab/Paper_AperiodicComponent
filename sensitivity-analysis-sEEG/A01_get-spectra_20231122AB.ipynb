{
 "cells": [
  {
   "cell_type": "code",
   "execution_count": 1,
   "metadata": {},
   "outputs": [
    {
     "name": "stderr",
     "output_type": "stream",
     "text": [
      "/var/folders/x4/njblnzxd78x5n8p7nz8xd3500000gn/T/ipykernel_64847/1812613363.py:7: DeprecationWarning: \n",
      "The `fooof` package is being deprecated and replaced by the `specparam` (spectral parameterization) package.\n",
      "This version of `fooof` (1.1) is fully functional, but will not be further updated.\n",
      "New projects are recommended to update to using `specparam` (see Changelog for details).\n",
      "  from fooof import FOOOF, FOOOFGroup\n"
     ]
    }
   ],
   "source": [
    "import os\n",
    "import glob\n",
    "import numpy as np\n",
    "import pandas as pd\n",
    "import copy\n",
    "import mne\n",
    "from fooof import FOOOF, FOOOFGroup\n",
    "import re\n",
    "import seaborn as sns\n",
    "import matplotlib.pyplot as plt"
   ]
  },
  {
   "cell_type": "code",
   "execution_count": 13,
   "metadata": {},
   "outputs": [],
   "source": [
    "PATH_ANALYSIS = \"/Users/ao622/Dropbox (Personal)/Lab-BML/Expan/2023-11-22-FOOOF-sensitivity-analysis-sEEG\""
   ]
  },
  {
   "cell_type": "code",
   "execution_count": 3,
   "metadata": {},
   "outputs": [],
   "source": [
    "df_localization = pd.read_csv('/Volumes/Nexus/Users/zouj/sEEG_data/electrode-localizations.tsv', delimiter='\\t')\\\n",
    "    [['Subject', 'label', 'electrode', 'is_thalamic', 'is_cortical']]\n",
    "df_localization.to_csv('/Users/ao622/Dropbox (Personal)/Lab-BML/Expan/2023-11-22-FOOOF-sensitivity-analysis-sEEG/data/electrode-localization.csv')"
   ]
  },
  {
   "cell_type": "code",
   "execution_count": 4,
   "metadata": {},
   "outputs": [
    {
     "data": {
      "text/plain": [
       "['/Volumes/Nexus/Users/zouj/sEEG_data/spectra/sub-EM1021_session-EMU_task-resting_run-01-spectrum.h5',\n",
       " '/Volumes/Nexus/Users/zouj/sEEG_data/spectra/sub-EM1021_session-EMU_task-resting_run-02-spectrum.h5',\n",
       " '/Volumes/Nexus/Users/zouj/sEEG_data/spectra/sub-EM1021_session-EMU_task-resting_run-03-spectrum.h5',\n",
       " '/Volumes/Nexus/Users/zouj/sEEG_data/spectra/sub-EM1023_ses-EMU_task-resting_run-02-spectrum.h5',\n",
       " '/Volumes/Nexus/Users/zouj/sEEG_data/spectra/sub-EM1023_ses-EMU_task-resting_run-01-spectrum.h5',\n",
       " '/Volumes/Nexus/Users/zouj/sEEG_data/spectra/sub-EM1029_ses-EMU_task-resting_run-01-spectrum.h5',\n",
       " '/Volumes/Nexus/Users/zouj/sEEG_data/spectra/EM1002_ses-EMU_task-resting_run-1_1-spectrum.h5',\n",
       " '/Volumes/Nexus/Users/zouj/sEEG_data/spectra/EM1002_ses-EMU_task-resting_run-1_2-spectrum.h5',\n",
       " '/Volumes/Nexus/Users/zouj/sEEG_data/spectra/EM1035_ses-EMU_task-resting_run-1-spectrum.h5',\n",
       " '/Volumes/Nexus/Users/zouj/sEEG_data/spectra/sub-EM1061_ses-EMU_task-resting_run-01_ieeg-spectrum.h5',\n",
       " '/Volumes/Nexus/Users/zouj/sEEG_data/spectra/sub-EM1063_ses-EMU_task-resting_run-01_ieeg-spectrum.h5',\n",
       " '/Volumes/Nexus/Users/zouj/sEEG_data/spectra/sub-EM1066_ses-EMU_task-resting_run-01_ieeg-spectrum.h5']"
      ]
     },
     "execution_count": 4,
     "metadata": {},
     "output_type": "execute_result"
    }
   ],
   "source": [
    "spectra_file_names = glob.glob('/Volumes/Nexus/Users/zouj/sEEG_data/spectra/*')\n",
    "spectra_file_names"
   ]
  },
  {
   "cell_type": "markdown",
   "metadata": {},
   "source": [
    "# Full Spectrum\n",
    "* spectral drop off ~ 400 hz\n",
    "*"
   ]
  },
  {
   "cell_type": "code",
   "execution_count": 5,
   "metadata": {},
   "outputs": [],
   "source": [
    "data = mne.time_frequency.read_spectrum(\n",
    "    '/Volumes/Nexus/Users/zouj/sEEG_data/spectra/sub-EM1021_session-EMU_task-resting_run-01-spectrum.h5'\n",
    ").to_data_frame().to_csv('/Users/ao622/Dropbox (Personal)/Lab-BML/Expan/2023-11-22-FOOOF-sensitivity-analysis-sEEG/data/test.csv')\n"
   ]
  },
  {
   "cell_type": "code",
   "execution_count": 14,
   "metadata": {},
   "outputs": [
    {
     "name": "stdout",
     "output_type": "stream",
     "text": [
      "/Users/ao622/Dropbox (Personal)/Lab-BML/Expan/2023-11-22-FOOOF-sensitivity-analysis-sEEG/data/sub-EM1021_session-EMU_task-resting_run-01-spectrum.csv\n",
      "/Users/ao622/Dropbox (Personal)/Lab-BML/Expan/2023-11-22-FOOOF-sensitivity-analysis-sEEG/data/sub-EM1021_session-EMU_task-resting_run-02-spectrum.csv\n",
      "/Users/ao622/Dropbox (Personal)/Lab-BML/Expan/2023-11-22-FOOOF-sensitivity-analysis-sEEG/data/sub-EM1021_session-EMU_task-resting_run-03-spectrum.csv\n",
      "/Users/ao622/Dropbox (Personal)/Lab-BML/Expan/2023-11-22-FOOOF-sensitivity-analysis-sEEG/data/sub-EM1023_ses-EMU_task-resting_run-02-spectrum.csv\n",
      "/Users/ao622/Dropbox (Personal)/Lab-BML/Expan/2023-11-22-FOOOF-sensitivity-analysis-sEEG/data/sub-EM1023_ses-EMU_task-resting_run-01-spectrum.csv\n",
      "/Users/ao622/Dropbox (Personal)/Lab-BML/Expan/2023-11-22-FOOOF-sensitivity-analysis-sEEG/data/sub-EM1029_ses-EMU_task-resting_run-01-spectrum.csv\n",
      "/Users/ao622/Dropbox (Personal)/Lab-BML/Expan/2023-11-22-FOOOF-sensitivity-analysis-sEEG/data/EM1002_ses-EMU_task-resting_run-1_1-spectrum.csv\n",
      "/Users/ao622/Dropbox (Personal)/Lab-BML/Expan/2023-11-22-FOOOF-sensitivity-analysis-sEEG/data/EM1002_ses-EMU_task-resting_run-1_2-spectrum.csv\n",
      "/Users/ao622/Dropbox (Personal)/Lab-BML/Expan/2023-11-22-FOOOF-sensitivity-analysis-sEEG/data/EM1035_ses-EMU_task-resting_run-1-spectrum.csv\n",
      "/Users/ao622/Dropbox (Personal)/Lab-BML/Expan/2023-11-22-FOOOF-sensitivity-analysis-sEEG/data/sub-EM1061_ses-EMU_task-resting_run-01_ieeg-spectrum.csv\n",
      "/Users/ao622/Dropbox (Personal)/Lab-BML/Expan/2023-11-22-FOOOF-sensitivity-analysis-sEEG/data/sub-EM1063_ses-EMU_task-resting_run-01_ieeg-spectrum.csv\n",
      "/Users/ao622/Dropbox (Personal)/Lab-BML/Expan/2023-11-22-FOOOF-sensitivity-analysis-sEEG/data/sub-EM1066_ses-EMU_task-resting_run-01_ieeg-spectrum.csv\n"
     ]
    }
   ],
   "source": [
    "for h5_file in spectra_file_names:\n",
    "    fname = os.path.splitext(os.path.basename(h5_file))[0]\n",
    "    csv_name = os.path.join(PATH_ANALYSIS,'data',fname +  '.csv')\n",
    "    print(csv_name)\n",
    "    mne.time_frequency.read_spectrum(h5_file).to_data_frame().to_csv(csv_name)"
   ]
  }
 ],
 "metadata": {
  "kernelspec": {
   "display_name": ".venv2",
   "language": "python",
   "name": "python3"
  },
  "language_info": {
   "codemirror_mode": {
    "name": "ipython",
    "version": 3
   },
   "file_extension": ".py",
   "mimetype": "text/x-python",
   "name": "python",
   "nbconvert_exporter": "python",
   "pygments_lexer": "ipython3",
   "version": "3.11.5"
  },
  "orig_nbformat": 4
 },
 "nbformat": 4,
 "nbformat_minor": 2
}
